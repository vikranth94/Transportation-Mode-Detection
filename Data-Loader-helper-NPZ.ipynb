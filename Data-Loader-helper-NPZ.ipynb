{
 "cells": [
  {
   "cell_type": "markdown",
   "metadata": {},
   "source": [
    "# Load the data from NPZ files into numpy arrays"
   ]
  },
  {
   "cell_type": "code",
   "execution_count": 1,
   "metadata": {},
   "outputs": [],
   "source": [
    "import numpy as np"
   ]
  },
  {
   "cell_type": "code",
   "execution_count": 14,
   "metadata": {},
   "outputs": [],
   "source": [
    "# NPZ files path\n",
    "data_path='/home/sandeep/HASCA-Workshop/extracted-data/train'\n",
    "acc_f='/Acc_16310.npz'\n",
    "gyro_f='/Gyro_16310.npz'\n",
    "mag_f='/Mag_16310.npz'\n",
    "lacc_f='/Lacc_16310.npz'\n",
    "gra_f='/gra_16310.npz'\n",
    "ori_f='/ori_16310.npz'\n",
    "press_f='/press_16310.npz'\n",
    "label_f='/label_16310.npz'"
   ]
  },
  {
   "cell_type": "markdown",
   "metadata": {},
   "source": [
    "## Loading Acc data"
   ]
  },
  {
   "cell_type": "code",
   "execution_count": 3,
   "metadata": {},
   "outputs": [],
   "source": [
    "acc = np.load(data_path+acc_f)\n",
    "accx =  acc['arr_0']\n",
    "accy =  acc['arr_1']\n",
    "accz =  acc['arr_2']"
   ]
  },
  {
   "cell_type": "markdown",
   "metadata": {},
   "source": [
    "## Loading Gyro data"
   ]
  },
  {
   "cell_type": "code",
   "execution_count": 4,
   "metadata": {},
   "outputs": [],
   "source": [
    "gyro = np.load(data_path+gyro_f)\n",
    "gyrox =  gyro['arr_0']\n",
    "gyroy =  gyro['arr_1']\n",
    "gyroz =  gyro['arr_2']"
   ]
  },
  {
   "cell_type": "markdown",
   "metadata": {},
   "source": [
    "## Loading Mag data"
   ]
  },
  {
   "cell_type": "code",
   "execution_count": 5,
   "metadata": {},
   "outputs": [],
   "source": [
    "mag = np.load(data_path+mag_f)\n",
    "magx =  mag['arr_0']\n",
    "magy =  mag['arr_1']\n",
    "magz =  mag['arr_2']"
   ]
  },
  {
   "cell_type": "markdown",
   "metadata": {},
   "source": [
    "## Loading LAcc data"
   ]
  },
  {
   "cell_type": "code",
   "execution_count": 6,
   "metadata": {},
   "outputs": [],
   "source": [
    "lacc = np.load(data_path+lacc_f)\n",
    "laccx =  lacc['arr_0']\n",
    "laccy =  lacc['arr_1']\n",
    "laccz =  lacc['arr_2']"
   ]
  },
  {
   "cell_type": "markdown",
   "metadata": {},
   "source": [
    "## Loading Gravity data"
   ]
  },
  {
   "cell_type": "code",
   "execution_count": 7,
   "metadata": {},
   "outputs": [],
   "source": [
    "gra=np.load(data_path+gra_f)\n",
    "grax =  gra['arr_0']\n",
    "gray =  gra['arr_1']\n",
    "graz =  gra['arr_2']"
   ]
  },
  {
   "cell_type": "markdown",
   "metadata": {},
   "source": [
    "## Loading Orientation data"
   ]
  },
  {
   "cell_type": "code",
   "execution_count": 8,
   "metadata": {},
   "outputs": [],
   "source": [
    "ori=np.load(data_path+ori_f)\n",
    "oriw =  ori['arr_0']\n",
    "orix =  ori['arr_1']\n",
    "oriy =  ori['arr_2']\n",
    "oriz =  ori['arr_3']"
   ]
  },
  {
   "cell_type": "markdown",
   "metadata": {},
   "source": [
    "## Loading Pressure data"
   ]
  },
  {
   "cell_type": "code",
   "execution_count": 9,
   "metadata": {},
   "outputs": [],
   "source": [
    "pres=np.load(data_path+press_f)\n",
    "press =  pres['arr_0']"
   ]
  },
  {
   "cell_type": "markdown",
   "metadata": {},
   "source": [
    "## Loading Label data"
   ]
  },
  {
   "cell_type": "code",
   "execution_count": 16,
   "metadata": {},
   "outputs": [],
   "source": [
    "lab=np.load(data_path+label_f)\n",
    "label =  lab['arr_0']"
   ]
  },
  {
   "cell_type": "code",
   "execution_count": 17,
   "metadata": {},
   "outputs": [
    {
     "data": {
      "text/plain": [
       "array([ 6.,  6.,  6., ...,  6.,  6.,  6.])"
      ]
     },
     "execution_count": 17,
     "metadata": {},
     "output_type": "execute_result"
    }
   ],
   "source": [
    "label[0]"
   ]
  },
  {
   "cell_type": "markdown",
   "metadata": {},
   "source": [
    "# Saving all the data in one npz file, from which all the data can be extracted"
   ]
  },
  {
   "cell_type": "code",
   "execution_count": 18,
   "metadata": {},
   "outputs": [],
   "source": [
    "np.savez(data_path+'/Data_16310', accx,accy,accz,gyrox,gyroy,gyroz,magx,magy,magz,laccx,laccy,laccz,grax,gray,graz,\n",
    "        oriw,orix,oriy,oriz,press,label)"
   ]
  },
  {
   "cell_type": "markdown",
   "metadata": {},
   "source": [
    "# Saving only the first 1000 samples in one npz file, from which all the data can be extracted"
   ]
  },
  {
   "cell_type": "code",
   "execution_count": 19,
   "metadata": {},
   "outputs": [],
   "source": [
    "size=1000\n",
    "f_name='/Data_'+str(size)\n",
    "np.savez(data_path+f_name, accx[:size],accy[:size],accz[:size],gyrox[:size],gyroy[:size],gyroz[:size],magx[:size],\n",
    "         magy[:size],magz[:size],laccx[:size],laccy[:size],laccz[:size],grax[:size],gray[:size],graz[:size],\n",
    "        oriw[:size],orix[:size],oriy[:size],oriz[:size],press[:size],label[:size])"
   ]
  },
  {
   "cell_type": "markdown",
   "metadata": {},
   "source": [
    "# Saving the 5000 Samples in one NPZ file"
   ]
  },
  {
   "cell_type": "code",
   "execution_count": 20,
   "metadata": {},
   "outputs": [],
   "source": [
    "size=5000\n",
    "f_name='/Data_'+str(size)\n",
    "np.savez(data_path+f_name, accx[:size],accy[:size],accz[:size],gyrox[:size],gyroy[:size],gyroz[:size],magx[:size],\n",
    "         magy[:size],magz[:size],laccx[:size],laccy[:size],laccz[:size],grax[:size],gray[:size],graz[:size],\n",
    "        oriw[:size],orix[:size],oriy[:size],oriz[:size],press[:size],label[:size])"
   ]
  },
  {
   "cell_type": "code",
   "execution_count": null,
   "metadata": {},
   "outputs": [],
   "source": []
  }
 ],
 "metadata": {
  "kernelspec": {
   "display_name": "Python 3",
   "language": "python",
   "name": "python3"
  },
  "language_info": {
   "codemirror_mode": {
    "name": "ipython",
    "version": 3
   },
   "file_extension": ".py",
   "mimetype": "text/x-python",
   "name": "python",
   "nbconvert_exporter": "python",
   "pygments_lexer": "ipython3",
   "version": "3.6.8"
  }
 },
 "nbformat": 4,
 "nbformat_minor": 2
}
