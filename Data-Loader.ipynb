{
 "cells": [
  {
   "cell_type": "code",
   "execution_count": 1,
   "metadata": {},
   "outputs": [],
   "source": [
    "import numpy as np\n",
    "import os"
   ]
  },
  {
   "cell_type": "code",
   "execution_count": 2,
   "metadata": {},
   "outputs": [],
   "source": [
    "data_path='Raw_data/train'\n",
    "\n",
    "# Acc data files\n",
    "accx_path = data_path+'/Acc_x.txt'\n",
    "accy_path = data_path+'/Acc_y.txt'\n",
    "accz_path = data_path+'/Acc_z.txt'\n",
    "\n",
    "# Gyro data files\n",
    "gyrox_path = data_path+'/Gyr_x.txt'\n",
    "gyroy_path = data_path+'/Gyr_y.txt'\n",
    "gyroz_path = data_path+'/Gyr_z.txt'\n",
    "\n",
    "# Mag data files\n",
    "magx_path = data_path+'/Mag_x.txt'\n",
    "magy_path = data_path+'/Mag_y.txt'\n",
    "magz_path = data_path+'/Mag_z.txt'\n",
    "\n",
    "# Linear Acc data files\n",
    "laccx_path = data_path+'/LAcc_x.txt'\n",
    "laccy_path = data_path+'/LAcc_y.txt'\n",
    "laccz_path = data_path+'/LAcc_z.txt'\n",
    "\n",
    "# Gravity data files\n",
    "grax_path = data_path+'/Gyr_x.txt'\n",
    "gray_path = data_path+'/Gyr_y.txt'\n",
    "graz_path = data_path+'/Gyr_z.txt'\n",
    "\n",
    "# Orientation data files\n",
    "oriw_path = data_path+'/Ori_w.txt'\n",
    "orix_path = data_path+'/Ori_x.txt'\n",
    "oriy_path = data_path+'/Ori_y.txt'\n",
    "oriz_path = data_path+'/Ori_z.txt'\n",
    "\n",
    "# Pressure data file\n",
    "press_path= data_path+'/Pressure.txt'\n",
    "\n",
    "# Labels\n",
    "label_path = data_path+'/Label.txt'\n",
    "\n",
    "# Training dataframe order\n",
    "order_path = data_path+'/train_order.txt'"
   ]
  },
  {
   "cell_type": "code",
   "execution_count": 3,
   "metadata": {},
   "outputs": [
    {
     "name": "stdout",
     "output_type": "stream",
     "text": [
      "Loading acc\n",
      "Loading gyro\n",
      "Loading mag\n",
      "Loading l_acc\n",
      "Loading grav\n",
      "Loading ori\n",
      "Loading pres\n",
      "Loading labels\n",
      "Loading order\n"
     ]
    }
   ],
   "source": [
    "# Loading Files\n",
    "print('Loading acc')\n",
    "accx =  np.loadtxt(accx_path)\n",
    "accy =  np.loadtxt(accy_path)\n",
    "accz =  np.loadtxt(accz_path)\n",
    "print('Loading gyro')\n",
    "gyrox =  np.loadtxt(gyrox_path)\n",
    "gyroy =  np.loadtxt(gyroy_path)\n",
    "gyroz =  np.loadtxt(gyroz_path)\n",
    "print('Loading mag')\n",
    "magx =  np.loadtxt(magx_path)\n",
    "magy =  np.loadtxt(magy_path)\n",
    "magz =  np.loadtxt(magz_path)\n",
    "print('Loading l_acc')\n",
    "laccx =  np.loadtxt(laccx_path)\n",
    "laccy =  np.loadtxt(laccy_path)\n",
    "laccz =  np.loadtxt(laccz_path)\n",
    "print('Loading grav')\n",
    "grax =  np.loadtxt(grax_path)\n",
    "gray =  np.loadtxt(gray_path)\n",
    "graz =  np.loadtxt(graz_path)\n",
    "print('Loading ori')\n",
    "oriw =  np.loadtxt(oriw_path)\n",
    "orix =  np.loadtxt(orix_path)\n",
    "oriy =  np.loadtxt(oriy_path)\n",
    "oriz =  np.loadtxt(oriz_path)\n",
    "print('Loading pres')\n",
    "press =  np.loadtxt(press_path)\n",
    "print('Loading labels')\n",
    "label= np.loadtxt(label_path)\n",
    "print('Loading order')\n",
    "order = np.loadtxt(order_path)"
   ]
  },
  {
   "cell_type": "code",
   "execution_count": 4,
   "metadata": {},
   "outputs": [],
   "source": [
    "# Reordering\n",
    "ordering = np.argsort(order)\n",
    "accx = accx[ordering]\n",
    "accy = accy[ordering]\n",
    "accz = accz[ordering]\n",
    "\n",
    "gyrox = gyrox[ordering]\n",
    "gyroy = gyroy[ordering]\n",
    "gyroz = gyroz[ordering]\n",
    "\n",
    "magx = magx[ordering]\n",
    "magy = magy[ordering]\n",
    "magz = magz[ordering]\n",
    "\n",
    "laccx = laccx[ordering]\n",
    "laccy = laccy[ordering]\n",
    "laccz = laccz[ordering]\n",
    "\n",
    "grax = grax[ordering]\n",
    "gray = gray[ordering]\n",
    "graz = graz[ordering]\n",
    "\n",
    "oriw = oriw[ordering]\n",
    "orix = orix[ordering]\n",
    "oriy = oriy[ordering]\n",
    "oriz = oriz[ordering]\n",
    "\n",
    "press = press[ordering]\n",
    "\n",
    "label = label[ordering]"
   ]
  },
  {
   "cell_type": "code",
   "execution_count": 7,
   "metadata": {},
   "outputs": [
    {
     "data": {
      "text/plain": [
       "array([1.0000e+00, 2.0000e+00, 3.0000e+00, ..., 1.6308e+04, 1.6309e+04,\n",
       "       1.6310e+04])"
      ]
     },
     "execution_count": 7,
     "metadata": {},
     "output_type": "execute_result"
    }
   ],
   "source": [
    "order[ordering]"
   ]
  },
  {
   "cell_type": "code",
   "execution_count": null,
   "metadata": {},
   "outputs": [],
   "source": [
    "save_path = 'Extracted_data'\n",
    "np.savez(save_path+'/Train_data', accx,accy,accz,gyrox,gyroy,gyroz,magx,magy,magz,laccx,laccy,laccz,grax,gray,graz,\n",
    "        oriw,orix,oriy,oriz,press)\n",
    "np.save(save_path+'/Train_labels', label)"
   ]
  },
  {
   "cell_type": "code",
   "execution_count": null,
   "metadata": {},
   "outputs": [],
   "source": []
  },
  {
   "cell_type": "code",
   "execution_count": null,
   "metadata": {},
   "outputs": [],
   "source": []
  },
  {
   "cell_type": "code",
   "execution_count": null,
   "metadata": {},
   "outputs": [],
   "source": []
  },
  {
   "cell_type": "code",
   "execution_count": null,
   "metadata": {},
   "outputs": [],
   "source": []
  },
  {
   "cell_type": "code",
   "execution_count": null,
   "metadata": {},
   "outputs": [],
   "source": []
  },
  {
   "cell_type": "code",
   "execution_count": null,
   "metadata": {},
   "outputs": [],
   "source": []
  },
  {
   "cell_type": "code",
   "execution_count": null,
   "metadata": {},
   "outputs": [],
   "source": []
  },
  {
   "cell_type": "code",
   "execution_count": null,
   "metadata": {},
   "outputs": [],
   "source": []
  },
  {
   "cell_type": "code",
   "execution_count": null,
   "metadata": {},
   "outputs": [],
   "source": []
  },
  {
   "cell_type": "code",
   "execution_count": null,
   "metadata": {},
   "outputs": [],
   "source": []
  },
  {
   "cell_type": "code",
   "execution_count": null,
   "metadata": {},
   "outputs": [],
   "source": []
  },
  {
   "cell_type": "code",
   "execution_count": null,
   "metadata": {},
   "outputs": [],
   "source": []
  }
 ],
 "metadata": {
  "kernelspec": {
   "display_name": "Python 3",
   "language": "python",
   "name": "python3"
  },
  "language_info": {
   "codemirror_mode": {
    "name": "ipython",
    "version": 3
   },
   "file_extension": ".py",
   "mimetype": "text/x-python",
   "name": "python",
   "nbconvert_exporter": "python",
   "pygments_lexer": "ipython3",
   "version": "3.6.8"
  }
 },
 "nbformat": 4,
 "nbformat_minor": 2
}
