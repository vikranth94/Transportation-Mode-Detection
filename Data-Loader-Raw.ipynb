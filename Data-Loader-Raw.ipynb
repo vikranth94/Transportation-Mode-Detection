{
 "cells": [
  {
   "cell_type": "markdown",
   "metadata": {},
   "source": [
    "# Loading the raw training data from 7 sensors."
   ]
  },
  {
   "cell_type": "markdown",
   "metadata": {},
   "source": [
    "## This file does the below things\n",
    "- Assumes the raw txt files are available at location: data_path\n",
    "- Extract the data for all the sensors from this raw text files and save the extracted data in npz file format\n",
    "- The npz files can be loaded easily later which are much faster than the parsing the raw text files."
   ]
  },
  {
   "cell_type": "code",
   "execution_count": 1,
   "metadata": {},
   "outputs": [],
   "source": [
    "import numpy as np"
   ]
  },
  {
   "cell_type": "code",
   "execution_count": 5,
   "metadata": {},
   "outputs": [],
   "source": [
    "# raw extracted full data path: \n",
    "data_path='/home/sandeep/HASCA-Workshop/raw-data/train'\n",
    "\n",
    "# Acc data files\n",
    "accx_path = data_path+'/Acc_x.txt'\n",
    "accy_path = data_path+'/Acc_y.txt'\n",
    "accz_path = data_path+'/Acc_z.txt'\n",
    "\n",
    "# Gyro data files\n",
    "gyrox_path = data_path+'/Gyr_x.txt'\n",
    "gyroy_path = data_path+'/Gyr_y.txt'\n",
    "gyroz_path = data_path+'/Gyr_z.txt'\n",
    "\n",
    "# Mag data files\n",
    "magx_path = data_path+'/Mag_x.txt'\n",
    "magy_path = data_path+'/Mag_y.txt'\n",
    "magz_path = data_path+'/Mag_z.txt'\n",
    "\n",
    "# Linear Acc data files\n",
    "laccx_path = data_path+'/LAcc_x.txt'\n",
    "laccy_path = data_path+'/LAcc_y.txt'\n",
    "laccz_path = data_path+'/LAcc_z.txt'\n",
    "\n",
    "# Gravity data files\n",
    "grax_path = data_path+'/Gyr_x.txt'\n",
    "gray_path = data_path+'/Gyr_y.txt'\n",
    "graz_path = data_path+'/Gyr_z.txt'\n",
    "\n",
    "# Orientation data files\n",
    "oriw_path = data_path+'/Ori_w.txt'\n",
    "orix_path = data_path+'/Ori_x.txt'\n",
    "oriy_path = data_path+'/Ori_y.txt'\n",
    "oriz_path = data_path+'/Ori_z.txt'\n",
    "\n",
    "# Pressure data file\n",
    "press_path= data_path+'/Pressure.txt'\n",
    "\n",
    "# Labels\n",
    "label_path = data_path+'/Label.txt'\n",
    "\n",
    "# Training dataframe order\n",
    "order_path = data_path+'/train_order.txt'"
   ]
  },
  {
   "cell_type": "markdown",
   "metadata": {},
   "source": [
    "# Next we load the text files, and convert to np array, and save the array in npz format for easy loading in future."
   ]
  },
  {
   "cell_type": "code",
   "execution_count": 6,
   "metadata": {},
   "outputs": [],
   "source": [
    "data_accx =  np.loadtxt(accx_path)\n",
    "data_accy =  np.loadtxt(accy_path)\n",
    "data_accz =  np.loadtxt(accz_path)"
   ]
  },
  {
   "cell_type": "code",
   "execution_count": 7,
   "metadata": {},
   "outputs": [
    {
     "name": "stdout",
     "output_type": "stream",
     "text": [
      "Size of the loaded Acc data:\n",
      "(16310, 6000) (16310, 6000) (16310, 6000)\n"
     ]
    }
   ],
   "source": [
    "print('Size of the loaded Acc data:')\n",
    "print(data_accx.shape,data_accy.shape,data_accz.shape)"
   ]
  },
  {
   "cell_type": "code",
   "execution_count": 9,
   "metadata": {},
   "outputs": [],
   "source": [
    "store_path='/home/sandeep/HASCA-Workshop/extracted-data'"
   ]
  },
  {
   "cell_type": "code",
   "execution_count": 28,
   "metadata": {},
   "outputs": [],
   "source": [
    "#Saving numpy array data format to the disk in npz format\n",
    "# Naming is by the number of frames in this data\n",
    "\n",
    "np.savez(store_path+'/Acc_16310', data_accx, data_accy, data_accz)"
   ]
  },
  {
   "cell_type": "code",
   "execution_count": 23,
   "metadata": {},
   "outputs": [],
   "source": [
    "data_gyrox =  np.loadtxt(gyrox_path)\n",
    "data_gyroy =  np.loadtxt(gyroy_path)\n",
    "data_gyroz =  np.loadtxt(gyroz_path)"
   ]
  },
  {
   "cell_type": "code",
   "execution_count": 30,
   "metadata": {},
   "outputs": [
    {
     "name": "stdout",
     "output_type": "stream",
     "text": [
      "Size of the loaded gyro data:\n",
      "(16310, 6000) (16310, 6000) (16310, 6000)\n"
     ]
    }
   ],
   "source": [
    "print('Size of the loaded gyro data:')\n",
    "print(data_gyrox.shape,data_gyroy.shape,data_gyroz.shape)"
   ]
  },
  {
   "cell_type": "code",
   "execution_count": 31,
   "metadata": {},
   "outputs": [],
   "source": [
    "#Saving numpy array data format to the disk in npz format\n",
    "# Naming is by the number of frames in this data\n",
    "np.savez(store_path+'/Gyro_16310', data_gyrox, data_gyroy, data_gyroz)"
   ]
  },
  {
   "cell_type": "code",
   "execution_count": 32,
   "metadata": {},
   "outputs": [],
   "source": [
    "data_magx =  np.loadtxt(magx_path)\n",
    "data_magy =  np.loadtxt(magy_path)\n",
    "data_magz =  np.loadtxt(magz_path)"
   ]
  },
  {
   "cell_type": "code",
   "execution_count": 33,
   "metadata": {},
   "outputs": [
    {
     "name": "stdout",
     "output_type": "stream",
     "text": [
      "Size of the loaded mag data:\n",
      "(16310, 6000) (16310, 6000) (16310, 6000)\n"
     ]
    }
   ],
   "source": [
    "print('Size of the loaded mag data:')\n",
    "print(data_magx.shape,data_magy.shape,data_magz.shape)"
   ]
  },
  {
   "cell_type": "code",
   "execution_count": 34,
   "metadata": {},
   "outputs": [],
   "source": [
    "#Saving numpy array data format to the disk in npz format\n",
    "# Naming is by the number of frames in this data\n",
    "np.savez(store_path+'/Mag_16310', data_magx, data_magy, data_magz)"
   ]
  },
  {
   "cell_type": "code",
   "execution_count": 35,
   "metadata": {},
   "outputs": [],
   "source": [
    "data_laccx =  np.loadtxt(laccx_path)\n",
    "data_laccy =  np.loadtxt(laccy_path)\n",
    "data_laccz =  np.loadtxt(laccz_path)"
   ]
  },
  {
   "cell_type": "code",
   "execution_count": 36,
   "metadata": {},
   "outputs": [
    {
     "name": "stdout",
     "output_type": "stream",
     "text": [
      "Size of the loaded lacc data:\n",
      "(16310, 6000) (16310, 6000) (16310, 6000)\n"
     ]
    }
   ],
   "source": [
    "print('Size of the loaded linear acc data:')\n",
    "print(data_laccx.shape,data_laccy.shape,data_laccz.shape)"
   ]
  },
  {
   "cell_type": "code",
   "execution_count": 37,
   "metadata": {},
   "outputs": [],
   "source": [
    "#Saving numpy array data format to the disk in npz format\n",
    "# Naming is by the number of frames in this data\n",
    "np.savez(store_path+'/Lacc_16310', data_laccx, data_laccy, data_laccz)"
   ]
  },
  {
   "cell_type": "code",
   "execution_count": 38,
   "metadata": {},
   "outputs": [],
   "source": [
    "data_grax =  np.loadtxt(grax_path)\n",
    "data_gray =  np.loadtxt(gray_path)\n",
    "data_graz =  np.loadtxt(graz_path)"
   ]
  },
  {
   "cell_type": "code",
   "execution_count": 39,
   "metadata": {},
   "outputs": [
    {
     "name": "stdout",
     "output_type": "stream",
     "text": [
      "Size of the loaded gravity data:\n",
      "(16310, 6000) (16310, 6000) (16310, 6000)\n"
     ]
    }
   ],
   "source": [
    "print('Size of the loaded gravity data:')\n",
    "print(data_grax.shape,data_gray.shape,data_graz.shape)"
   ]
  },
  {
   "cell_type": "code",
   "execution_count": 42,
   "metadata": {},
   "outputs": [],
   "source": [
    "#Saving numpy array data format to the disk in npz format\n",
    "# Naming is by the number of frames in this data\n",
    "np.savez(store_path+'/gra_16310', data_grax, data_gray, data_graz)"
   ]
  },
  {
   "cell_type": "code",
   "execution_count": 40,
   "metadata": {},
   "outputs": [],
   "source": [
    "data_oriw =  np.loadtxt(oriw_path)\n",
    "data_orix =  np.loadtxt(orix_path)\n",
    "data_oriy =  np.loadtxt(oriy_path)\n",
    "data_oriz =  np.loadtxt(oriz_path)"
   ]
  },
  {
   "cell_type": "code",
   "execution_count": 41,
   "metadata": {},
   "outputs": [
    {
     "name": "stdout",
     "output_type": "stream",
     "text": [
      "Size of the loaded Orientation data:\n",
      "(16310, 6000) (16310, 6000) (16310, 6000) (16310, 6000)\n"
     ]
    }
   ],
   "source": [
    "print('Size of the loaded Orientation data:')\n",
    "print(data_oriw.shape,data_orix.shape,data_oriy.shape,data_oriz.shape)"
   ]
  },
  {
   "cell_type": "code",
   "execution_count": 43,
   "metadata": {},
   "outputs": [],
   "source": [
    "#Saving numpy array data format to the disk in npz format\n",
    "# Naming is by the number of frames in this data\n",
    "np.savez(store_path+'/ori_16310', data_oriw,data_orix, data_oriy, data_oriz)"
   ]
  },
  {
   "cell_type": "code",
   "execution_count": null,
   "metadata": {},
   "outputs": [],
   "source": [
    "data_press =  np.loadtxt(press_path)"
   ]
  },
  {
   "cell_type": "code",
   "execution_count": 44,
   "metadata": {},
   "outputs": [
    {
     "name": "stdout",
     "output_type": "stream",
     "text": [
      "Size of the loaded pressure data:\n",
      "(16310, 6000)\n"
     ]
    }
   ],
   "source": [
    "print('Size of the loaded pressure data:')\n",
    "print(data_press.shape)"
   ]
  },
  {
   "cell_type": "code",
   "execution_count": 45,
   "metadata": {},
   "outputs": [],
   "source": [
    "#Saving numpy array data format to the disk in npz format\n",
    "# Naming is by the number of frames in this data\n",
    "np.savez(store_path+'/press_16310', data_press)"
   ]
  },
  {
   "cell_type": "code",
   "execution_count": 3,
   "metadata": {},
   "outputs": [],
   "source": [
    "data_label= np.loadtxt(label_path)"
   ]
  },
  {
   "cell_type": "code",
   "execution_count": 4,
   "metadata": {},
   "outputs": [
    {
     "name": "stdout",
     "output_type": "stream",
     "text": [
      "Size of the loaded label data:\n",
      "(16310, 6000)\n"
     ]
    }
   ],
   "source": [
    "print('Size of the loaded label data:')\n",
    "print(data_label.shape)"
   ]
  },
  {
   "cell_type": "code",
   "execution_count": 7,
   "metadata": {},
   "outputs": [],
   "source": [
    "#Saving numpy array data format to the disk in npz format\n",
    "# Naming is by the number of frames in this data\n",
    "np.savez(store_path+'/label_16310', data_label)"
   ]
  },
  {
   "cell_type": "code",
   "execution_count": 10,
   "metadata": {},
   "outputs": [
    {
     "name": "stdout",
     "output_type": "stream",
     "text": [
      "Size of the loaded order data:\n",
      "(16310,)\n"
     ]
    }
   ],
   "source": [
    "data_order = np.loadtxt(order_path)\n",
    "print('Size of the loaded order data:')\n",
    "print(data_order.shape)\n",
    "#Saving numpy array data format to the disk in npz format\n",
    "# Naming is by the number of frames in this data\n",
    "np.savez(store_path+'/order_16310', data_order)"
   ]
  },
  {
   "cell_type": "markdown",
   "metadata": {},
   "source": [
    "# Loading the raw testing data from 7 sensors."
   ]
  },
  {
   "cell_type": "code",
   "execution_count": 27,
   "metadata": {},
   "outputs": [],
   "source": [
    "# raw extracted full data path: \n",
    "data_path='/home/sandeep/HASCA-Workshop/raw-data/test'\n",
    "store_path='/home/sandeep/HASCA-Workshop/extracted-data/test'\n",
    "\n",
    "# Acc data files\n",
    "accx_path = data_path+'/Acc_x.txt'\n",
    "accy_path = data_path+'/Acc_y.txt'\n",
    "accz_path = data_path+'/Acc_z.txt'\n",
    "\n",
    "# Gyro data files\n",
    "gyrox_path = data_path+'/Gyr_x.txt'\n",
    "gyroy_path = data_path+'/Gyr_y.txt'\n",
    "gyroz_path = data_path+'/Gyr_z.txt'\n",
    "\n",
    "# Mag data files\n",
    "magx_path = data_path+'/Mag_x.txt'\n",
    "magy_path = data_path+'/Mag_y.txt'\n",
    "magz_path = data_path+'/Mag_z.txt'\n",
    "\n",
    "# Linear Acc data files\n",
    "laccx_path = data_path+'/LAcc_x.txt'\n",
    "laccy_path = data_path+'/LAcc_y.txt'\n",
    "laccz_path = data_path+'/LAcc_z.txt'\n",
    "\n",
    "# Gravity data files\n",
    "grax_path = data_path+'/Gyr_x.txt'\n",
    "gray_path = data_path+'/Gyr_y.txt'\n",
    "graz_path = data_path+'/Gyr_z.txt'\n",
    "\n",
    "# Orientation data files\n",
    "oriw_path = data_path+'/Ori_w.txt'\n",
    "orix_path = data_path+'/Ori_x.txt'\n",
    "oriy_path = data_path+'/Ori_y.txt'\n",
    "oriz_path = data_path+'/Ori_z.txt'\n",
    "\n",
    "# Pressure data file\n",
    "press_path= data_path+'/Pressure.txt'"
   ]
  },
  {
   "cell_type": "code",
   "execution_count": 28,
   "metadata": {},
   "outputs": [
    {
     "name": "stdout",
     "output_type": "stream",
     "text": [
      "Size of the loaded Acc data:\n",
      "(5698, 6000) (5698, 6000) (5698, 6000)\n"
     ]
    }
   ],
   "source": [
    "data_accx =  np.loadtxt(accx_path)\n",
    "data_accy =  np.loadtxt(accy_path)\n",
    "data_accz =  np.loadtxt(accz_path)\n",
    "print('Size of the loaded Acc data:')\n",
    "print(data_accx.shape,data_accy.shape,data_accz.shape)\n",
    "\n",
    "#Saving numpy array data format to the disk in npz format\n",
    "# Naming is by the number of frames in this data\n",
    "np.savez(store_path+'/test_acc_5698', data_accx, data_accy, data_accz)"
   ]
  },
  {
   "cell_type": "code",
   "execution_count": 29,
   "metadata": {},
   "outputs": [
    {
     "name": "stdout",
     "output_type": "stream",
     "text": [
      "Size of the loaded gyro data:\n",
      "(5698, 6000) (5698, 6000) (5698, 6000)\n"
     ]
    }
   ],
   "source": [
    "data_gyrox =  np.loadtxt(gyrox_path)\n",
    "data_gyroy =  np.loadtxt(gyroy_path)\n",
    "data_gyroz =  np.loadtxt(gyroz_path)\n",
    "print('Size of the loaded gyro data:')\n",
    "print(data_gyrox.shape,data_gyroy.shape,data_gyroz.shape)\n",
    "\n",
    "#Saving numpy array data format to the disk in npz format\n",
    "# Naming is by the number of frames in this data\n",
    "np.savez(store_path+'/test_gyro_5698', data_gyrox, data_gyroy, data_gyroz)"
   ]
  },
  {
   "cell_type": "code",
   "execution_count": 30,
   "metadata": {},
   "outputs": [
    {
     "name": "stdout",
     "output_type": "stream",
     "text": [
      "Size of the loaded mag data:\n",
      "(5698, 6000) (5698, 6000) (5698, 6000)\n"
     ]
    }
   ],
   "source": [
    "data_magx =  np.loadtxt(magx_path)\n",
    "data_magy =  np.loadtxt(magy_path)\n",
    "data_magz =  np.loadtxt(magz_path)\n",
    "print('Size of the loaded mag data:')\n",
    "print(data_magx.shape,data_magy.shape,data_magz.shape)\n",
    "\n",
    "\n",
    "#Saving numpy array data format to the disk in npz format#Saving  \n",
    "# Naming is by the number of frames in this data\n",
    "np.savez(store_path+'/test_mag_5698', data_magx, data_magy, data_magz)"
   ]
  },
  {
   "cell_type": "code",
   "execution_count": 31,
   "metadata": {},
   "outputs": [
    {
     "name": "stdout",
     "output_type": "stream",
     "text": [
      "Size of the loaded linear acc data:\n",
      "(5698, 6000) (5698, 6000) (5698, 6000)\n"
     ]
    }
   ],
   "source": [
    "data_laccx =  np.loadtxt(laccx_path)\n",
    "data_laccy =  np.loadtxt(laccy_path)\n",
    "data_laccz =  np.loadtxt(laccz_path)\n",
    "print('Size of the loaded linear acc data:')\n",
    "print(data_laccx.shape,data_laccy.shape,data_laccz.shape)\n",
    "\n",
    "#Saving numpy array data format to the disk in npz format\n",
    "# Naming is by the number of frames in this data\n",
    "np.savez(store_path+'/test_lacc_5698', data_laccx, data_laccy, data_laccz)\n"
   ]
  },
  {
   "cell_type": "code",
   "execution_count": 32,
   "metadata": {},
   "outputs": [
    {
     "name": "stdout",
     "output_type": "stream",
     "text": [
      "Size of the loaded gravity data:\n",
      "(5698, 6000) (5698, 6000) (5698, 6000)\n"
     ]
    }
   ],
   "source": [
    "data_grax =  np.loadtxt(grax_path)\n",
    "data_gray =  np.loadtxt(gray_path)\n",
    "data_graz =  np.loadtxt(graz_path)\n",
    "print('Size of the loaded gravity data:')\n",
    "print(data_grax.shape,data_gray.shape,data_graz.shape)\n",
    "\n",
    "#Saving numpy array data format to the disk in npz format\n",
    "# Naming is by the number of frames in this data\n",
    "np.savez(store_path+'/test_gra_5698', data_grax, data_gray, data_graz)"
   ]
  },
  {
   "cell_type": "code",
   "execution_count": 33,
   "metadata": {},
   "outputs": [
    {
     "name": "stdout",
     "output_type": "stream",
     "text": [
      "Size of the loaded Orientation data:\n",
      "(5698, 6000) (5698, 6000) (5698, 6000) (5698, 6000)\n"
     ]
    }
   ],
   "source": [
    "data_oriw =  np.loadtxt(oriw_path)\n",
    "data_orix =  np.loadtxt(orix_path)\n",
    "data_oriy =  np.loadtxt(oriy_path)\n",
    "data_oriz =  np.loadtxt(oriz_path)\n",
    "print('Size of the loaded Orientation data:')\n",
    "print(data_oriw.shape,data_orix.shape,data_oriy.shape,data_oriz.shape)\n",
    "\n",
    "#Saving numpy array data format to the disk in npz format\n",
    "# Naming is by the number of frames in this data\n",
    "np.savez(store_path+'/test_ori_5698', data_oriw,data_orix, data_oriy, data_oriz)\n"
   ]
  },
  {
   "cell_type": "code",
   "execution_count": 34,
   "metadata": {},
   "outputs": [
    {
     "name": "stdout",
     "output_type": "stream",
     "text": [
      "Size of the loaded pressure data:\n",
      "(5698, 6000)\n"
     ]
    }
   ],
   "source": [
    "data_press =  np.loadtxt(press_path)\n",
    "print('Size of the loaded pressure data:')\n",
    "print(data_press.shape)\n",
    "\n",
    "\n",
    "#Saving numpy array data format to the disk in npz format#Saving \n",
    "# Naming is by the number of frames in this data\n",
    "np.savez(store_path+'/test_press_5698', data_press)"
   ]
  }
 ],
 "metadata": {
  "kernelspec": {
   "display_name": "Python 3",
   "language": "python",
   "name": "python3"
  },
  "language_info": {
   "codemirror_mode": {
    "name": "ipython",
    "version": 3
   },
   "file_extension": ".py",
   "mimetype": "text/x-python",
   "name": "python",
   "nbconvert_exporter": "python",
   "pygments_lexer": "ipython3",
   "version": "3.6.8"
  }
 },
 "nbformat": 4,
 "nbformat_minor": 2
}
