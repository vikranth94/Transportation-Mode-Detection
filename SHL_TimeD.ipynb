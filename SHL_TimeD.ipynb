{
 "cells": [
  {
   "cell_type": "markdown",
   "metadata": {},
   "source": [
    "## Import required Python modules"
   ]
  },
  {
   "cell_type": "markdown",
   "metadata": {},
   "source": [
    "## Download data and pre-proces data"
   ]
  },
  {
   "cell_type": "code",
   "execution_count": 1,
   "metadata": {},
   "outputs": [],
   "source": [
    "import numpy as np\n",
    "from matplotlib import pyplot as plt"
   ]
  },
  {
   "cell_type": "code",
   "execution_count": 2,
   "metadata": {},
   "outputs": [],
   "source": [
    "# NPZ files path\n",
    "data_path='/home/sandeep/storage/extracted_data/test'\n",
    "\n",
    "# data file with all the 16310 frames: 'Data_16310.npz'\n",
    "# data file with only 1000 frames: 'Data_1000.npz'\n",
    "\n",
    "data_file = '/Test_Data_5698.npz'\n",
    "data=np.load(data_path+data_file)"
   ]
  },
  {
   "cell_type": "raw",
   "metadata": {},
   "source": [
    "accx= data['arr_0']\n",
    "accy= data['arr_1']\n",
    "accz= data['arr_2']\n",
    "gyrox= data['arr_3']\n",
    "gyroy= data['arr_4']\n",
    "gyroz= data['arr_5']\n",
    "magx= data['arr_6']\n",
    "magy= data['arr_7']\n",
    "magz= data['arr_8']\n",
    "laccx= data['arr_9']\n",
    "laccy= data['arr_10']\n",
    "laccz= data['arr_11']\n",
    "grax= data['arr_12']\n",
    "gray= data['arr_13']\n",
    "graz= data['arr_14']\n",
    "oriw= data['arr_15']\n",
    "orix= data['arr_16']\n",
    "oriy= data['arr_17']\n",
    "oriz= data['arr_18']\n",
    "press= data['arr_19']\n",
    "label= data['arr_20']"
   ]
  },
  {
   "cell_type": "code",
   "execution_count": 4,
   "metadata": {},
   "outputs": [
    {
     "name": "stdout",
     "output_type": "stream",
     "text": [
      "(5698, 6000, 11)\n"
     ]
    }
   ],
   "source": [
    "X = np.float32(np.dstack((np.float32(data['arr_9']), np.float32(data['arr_10']), np.float32(data['arr_11']),\n",
    "                          np.float32(data['arr_12']), np.float32(data['arr_13']), np.float32(data['arr_14']),\n",
    "                         np.float32(data['arr_15']), np.float32(data['arr_16']), np.float32(data['arr_17']),\n",
    "                         np.float32(data['arr_18']), np.float32(data['arr_19']))))\n",
    "#X = np.float32(X)\n",
    "#Y = np.int8(Y)\n",
    "print(X.shape)\n"
   ]
  },
  {
   "cell_type": "code",
   "execution_count": 5,
   "metadata": {},
   "outputs": [
    {
     "name": "stdout",
     "output_type": "stream",
     "text": [
      "1504272000\n"
     ]
    }
   ],
   "source": [
    "print(X.nbytes)\n"
   ]
  },
  {
   "cell_type": "code",
   "execution_count": 6,
   "metadata": {},
   "outputs": [],
   "source": [
    "def strided_app(a, L, S ):  # Window len = L, Stride len/stepsize = S\n",
    "    nrows = ((a.shape[0]-L)//S)+1\n",
    "    n = a.strides[0]\n",
    "    return np.lib.stride_tricks.as_strided(a, shape=(nrows,L,a.shape[1] ), strides=(S*n,n,a.strides[1]))"
   ]
  },
  {
   "cell_type": "code",
   "execution_count": 7,
   "metadata": {
    "scrolled": true
   },
   "outputs": [],
   "source": [
    "X2 = []\n",
    "for i in range (0, X.shape[0]):\n",
    "    X2.append(strided_app(X[i],500,250))\n",
    "    \n",
    "X2 = np.asarray(X2)\n",
    "X2 = X2.reshape((-1,500,11))\n",
    "del X"
   ]
  },
  {
   "cell_type": "markdown",
   "metadata": {},
   "source": [
    "## Load the pre-processed data"
   ]
  },
  {
   "cell_type": "code",
   "execution_count": 8,
   "metadata": {},
   "outputs": [
    {
     "name": "stderr",
     "output_type": "stream",
     "text": [
      "/home/sandeep/anaconda3/envs/py36/lib/python3.6/site-packages/h5py/__init__.py:36: FutureWarning: Conversion of the second argument of issubdtype from `float` to `np.floating` is deprecated. In future, it will be treated as `np.float64 == np.dtype(float).type`.\n",
      "  from ._conv import register_converters as _register_converters\n",
      "Using TensorFlow backend.\n"
     ]
    }
   ],
   "source": [
    "import keras\n",
    "from keras.models import Sequential\n",
    "from keras.layers import Conv2D, MaxPooling2D, LSTM, Dense, Dropout, Flatten, Bidirectional, TimeDistributed\n",
    "from keras.layers.normalization import BatchNormalization\n",
    "from keras.layers.core import Permute, Reshape\n",
    "from keras import backend as K\n",
    "from keras.callbacks import ModelCheckpoint"
   ]
  },
  {
   "cell_type": "code",
   "execution_count": 9,
   "metadata": {},
   "outputs": [
    {
     "name": "stdout",
     "output_type": "stream",
     "text": [
      "(0, 500, 11)\n",
      "(0, 500, 11)\n",
      "(131054, 500, 11)\n"
     ]
    }
   ],
   "source": [
    "z = 0\n",
    "z1 = 0\n",
    "X_train0 = X2[:z]\n",
    "X_val0 = X2[z:z1]\n",
    "X_test0 = X2[z1:]\n",
    "print(np.shape(X_train0))\n",
    "print(np.shape(X_val0))\n",
    "print(np.shape(X_test0))\n"
   ]
  },
  {
   "cell_type": "markdown",
   "metadata": {},
   "source": [
    "## My Models"
   ]
  },
  {
   "cell_type": "code",
   "execution_count": 10,
   "metadata": {},
   "outputs": [],
   "source": [
    "def _data_reshaping(X_tr, X_va, X_ts, network_type):\n",
    "    _, win_len, dim = X_tr.shape\n",
    "    print(network_type)\n",
    "    if network_type=='CNN' or network_type=='ConvLSTM':\n",
    "        \n",
    "        # make it into (frame_number, dimension, window_size, channel=1) for convNet\n",
    "        X_tr = np.swapaxes(X_tr,1,2)\n",
    "        X_va = np.swapaxes(X_va,1,2)\n",
    "        X_ts = np.swapaxes(X_ts,1,2)\n",
    "\n",
    "        X_tr = np.reshape(X_tr, (-1, dim, win_len, 1))\n",
    "        X_va = np.reshape(X_va, (-1, dim, win_len, 1))\n",
    "        X_ts = np.reshape(X_ts, (-1, dim, win_len, 1))\n",
    "        \n",
    "    if network_type=='MLP':\n",
    "        print('MLP...')\n",
    "        X_tr = np.reshape(X_tr, (-1, dim*win_len))\n",
    "        X_va = np.reshape(X_va, (-1, dim*win_len))\n",
    "        X_ts = np.reshape(X_ts, (-1, dim*win_len))\n",
    "    \n",
    "    return X_tr, X_va, X_ts"
   ]
  },
  {
   "cell_type": "code",
   "execution_count": 11,
   "metadata": {},
   "outputs": [],
   "source": [
    "def model_variant(model, num_feat_map, dim, network_type,p):\n",
    "    print(network_type)\n",
    "    if network_type == 'ConvLSTM':\n",
    "        model.add(Permute((2, 1, 3))) # for swap-dimension\n",
    "        model.add(Reshape((-1,num_feat_map*dim)))\n",
    "        model.add(Bidirectional(LSTM(32, return_sequences=True, stateful=False)))\n",
    "        #model.add(LSTM(32, return_sequences=False, stateful=False))\n",
    "        model.add(Dropout(p))\n",
    "    if network_type == 'CNN':\n",
    "        \n",
    "        model.add(Flatten())\n",
    "        model.add(Dense(32, activation='relu'))\n",
    "        model.add(BatchNormalization()) #added\n",
    "        model.add(Dropout(p))\n",
    "\n",
    "        \n",
    "def model_conv(model, num_feat_map,p,b):\n",
    "    model.add(Conv2D(num_feat_map, kernel_size=(1, 5),    # Original Kernel size(1,5)\n",
    "                 activation='relu',\n",
    "                 input_shape=(dim, win_len, 1),\n",
    "                 padding='same'))\n",
    "    if (b==1):\n",
    "        model.add(BatchNormalization()) #added\n",
    "    model.add(MaxPooling2D(pool_size=(1, 2)))\n",
    "    model.add(Dropout(p))\n",
    "    model.add(Conv2D(num_feat_map, kernel_size=(1, 3), activation='relu',padding='same'))  # Original Kernel size(1,5)\n",
    "    if (b==1):\n",
    "        model.add(BatchNormalization()) #added\n",
    "    model.add(MaxPooling2D(pool_size=(1, 2)))\n",
    "    model.add(Dropout(p))\n",
    "    \n",
    "def model_LSTM(model,p):\n",
    "    model.add(LSTM(num_hidden_lstm, \n",
    "               input_shape=(win_len,dim), \n",
    "               return_sequences=True))\n",
    "    model.add(Dropout(p))\n",
    "    model.add(LSTM(num_hidden_lstm, return_sequences=False))\n",
    "    model.add(Dropout(p))\n",
    "\n",
    "def model_MLP(model, num_hidden_mlp,p):\n",
    "    model.add(Dense(num_hidden_mlp, activation='relu', input_shape=(dim*win_len,)))\n",
    "    model.add(Dropout(p))\n",
    "    model.add(Dense(num_hidden_mlp, activation='relu'))\n",
    "    model.add(Dropout(p))\n",
    "    \n",
    "def model_output(model):\n",
    "    model.add(TimeDistributed(Dense(num_classes, activation='softmax')))"
   ]
  },
  {
   "cell_type": "code",
   "execution_count": 12,
   "metadata": {},
   "outputs": [
    {
     "name": "stdout",
     "output_type": "stream",
     "text": [
      "500\n",
      "11\n",
      "ConvLSTM\n"
     ]
    }
   ],
   "source": [
    "batch_size = 512\n",
    "num_feat_map = 64\n",
    "num_hidden_mlp = 128\n",
    "num_hidden_lstm = 64\n",
    "num_classes = 8\n",
    "\n",
    "#network_type = 'CNN'\n",
    "network_type = 'ConvLSTM'\n",
    "#network_type = 'LSTM'\n",
    "#network_type = 'MLP'\n",
    "_, win_len, dim = X_train0.shape\n",
    "print(win_len)\n",
    "print(dim)\n",
    "\n",
    "X_train, X_val, X_test = _data_reshaping(X_train0, X_val0, X_test0, network_type)"
   ]
  },
  {
   "cell_type": "code",
   "execution_count": 23,
   "metadata": {},
   "outputs": [
    {
     "name": "stdout",
     "output_type": "stream",
     "text": [
      "building the model ... \n",
      "ConvLSTM\n",
      "_________________________________________________________________\n",
      "Layer (type)                 Output Shape              Param #   \n",
      "=================================================================\n",
      "conv2d_1 (Conv2D)            (None, 11, 500, 64)       384       \n",
      "_________________________________________________________________\n",
      "batch_normalization_1 (Batch (None, 11, 500, 64)       256       \n",
      "_________________________________________________________________\n",
      "max_pooling2d_1 (MaxPooling2 (None, 11, 250, 64)       0         \n",
      "_________________________________________________________________\n",
      "dropout_1 (Dropout)          (None, 11, 250, 64)       0         \n",
      "_________________________________________________________________\n",
      "conv2d_2 (Conv2D)            (None, 11, 250, 64)       12352     \n",
      "_________________________________________________________________\n",
      "batch_normalization_2 (Batch (None, 11, 250, 64)       256       \n",
      "_________________________________________________________________\n",
      "max_pooling2d_2 (MaxPooling2 (None, 11, 125, 64)       0         \n",
      "_________________________________________________________________\n",
      "dropout_2 (Dropout)          (None, 11, 125, 64)       0         \n",
      "_________________________________________________________________\n",
      "permute_1 (Permute)          (None, 125, 11, 64)       0         \n",
      "_________________________________________________________________\n",
      "reshape_1 (Reshape)          (None, 125, 704)          0         \n",
      "_________________________________________________________________\n",
      "bidirectional_1 (Bidirection (None, 125, 64)           188672    \n",
      "_________________________________________________________________\n",
      "dropout_3 (Dropout)          (None, 125, 64)           0         \n",
      "_________________________________________________________________\n",
      "time_distributed_1 (TimeDist (None, 125, 8)            520       \n",
      "=================================================================\n",
      "Total params: 202,440\n",
      "Trainable params: 202,184\n",
      "Non-trainable params: 256\n",
      "_________________________________________________________________\n"
     ]
    }
   ],
   "source": [
    "p=0.3 #Dropout\n",
    "b = 1 #BatchNorm\n",
    "print('building the model ... ')\n",
    "model = Sequential()\n",
    "\n",
    "if network_type=='CNN' or network_type=='ConvLSTM':\n",
    "    model_conv(model, num_feat_map,p,b)\n",
    "    model_variant(model, num_feat_map, dim, network_type,p)\n",
    "if network_type=='LSTM':\n",
    "    model_LSTM(model,p)\n",
    "if network_type=='MLP': \n",
    "    model_MLP(model, num_hidden_mlp,p) \n",
    "       \n",
    "model_output(model)    \n",
    "model.summary()"
   ]
  },
  {
   "cell_type": "code",
   "execution_count": 51,
   "metadata": {
    "scrolled": true
   },
   "outputs": [
    {
     "name": "stdout",
     "output_type": "stream",
     "text": [
      "Train on 280002 samples, validate on 39997 samples\n",
      "Epoch 1/20\n",
      "280002/280002 [==============================] - 283s 1ms/step - loss: 0.2496 - acc: 0.9141 - val_loss: 0.3329 - val_acc: 0.8913\n",
      "\n",
      "Epoch 00001: val_acc improved from -inf to 0.89132, saving model to weights_best_timd.hdf5\n",
      "Epoch 2/20\n",
      "280002/280002 [==============================] - 281s 1ms/step - loss: 0.2525 - acc: 0.9129 - val_loss: 0.7202 - val_acc: 0.7834\n",
      "\n",
      "Epoch 00002: val_acc did not improve\n",
      "Epoch 3/20\n",
      "280002/280002 [==============================] - 282s 1ms/step - loss: 0.2414 - acc: 0.9172 - val_loss: 0.3529 - val_acc: 0.8837\n",
      "\n",
      "Epoch 00003: val_acc did not improve\n",
      "Epoch 4/20\n",
      "280002/280002 [==============================] - 282s 1ms/step - loss: 0.2417 - acc: 0.9169 - val_loss: 0.5293 - val_acc: 0.8369\n",
      "\n",
      "Epoch 00004: val_acc did not improve\n",
      "Epoch 5/20\n",
      "280002/280002 [==============================] - 282s 1ms/step - loss: 0.2347 - acc: 0.9194 - val_loss: 0.3517 - val_acc: 0.8880\n",
      "\n",
      "Epoch 00005: val_acc did not improve\n",
      "Epoch 6/20\n",
      "280002/280002 [==============================] - 282s 1ms/step - loss: 0.2307 - acc: 0.9209 - val_loss: 0.3342 - val_acc: 0.8924\n",
      "\n",
      "Epoch 00006: val_acc improved from 0.89132 to 0.89244, saving model to weights_best_timd.hdf5\n",
      "Epoch 7/20\n",
      "280002/280002 [==============================] - 282s 1ms/step - loss: 0.2284 - acc: 0.9216 - val_loss: 0.3192 - val_acc: 0.8976\n",
      "\n",
      "Epoch 00007: val_acc improved from 0.89244 to 0.89758, saving model to weights_best_timd.hdf5\n",
      "Epoch 8/20\n",
      "280002/280002 [==============================] - 282s 1ms/step - loss: 0.2234 - acc: 0.9236 - val_loss: 0.3320 - val_acc: 0.8962\n",
      "\n",
      "Epoch 00008: val_acc did not improve\n",
      "Epoch 9/20\n",
      "280002/280002 [==============================] - 282s 1ms/step - loss: 0.2203 - acc: 0.9247 - val_loss: 0.4455 - val_acc: 0.8638\n",
      "\n",
      "Epoch 00009: val_acc did not improve\n",
      "Epoch 10/20\n",
      "280002/280002 [==============================] - 282s 1ms/step - loss: 0.2185 - acc: 0.9255 - val_loss: 0.3197 - val_acc: 0.8990\n",
      "\n",
      "Epoch 00010: val_acc improved from 0.89758 to 0.89903, saving model to weights_best_timd.hdf5\n",
      "Epoch 11/20\n",
      "280002/280002 [==============================] - 282s 1ms/step - loss: 0.2193 - acc: 0.9248 - val_loss: 0.5562 - val_acc: 0.8361\n",
      "\n",
      "Epoch 00011: val_acc did not improve\n",
      "Epoch 12/20\n",
      "280002/280002 [==============================] - 282s 1ms/step - loss: 0.2193 - acc: 0.9252 - val_loss: 0.3706 - val_acc: 0.8839\n",
      "\n",
      "Epoch 00012: val_acc did not improve\n",
      "Epoch 13/20\n",
      "280002/280002 [==============================] - 282s 1ms/step - loss: 0.2146 - acc: 0.9269 - val_loss: 0.3160 - val_acc: 0.8981\n",
      "\n",
      "Epoch 00013: val_acc did not improve\n",
      "Epoch 14/20\n",
      "280002/280002 [==============================] - 282s 1ms/step - loss: 0.2103 - acc: 0.9284 - val_loss: 0.4217 - val_acc: 0.8747\n",
      "\n",
      "Epoch 00014: val_acc did not improve\n",
      "Epoch 15/20\n",
      "280002/280002 [==============================] - 282s 1ms/step - loss: 0.2080 - acc: 0.9292 - val_loss: 0.3250 - val_acc: 0.9000\n",
      "\n",
      "Epoch 00015: val_acc improved from 0.89903 to 0.89999, saving model to weights_best_timd.hdf5\n",
      "Epoch 16/20\n",
      "280002/280002 [==============================] - 282s 1ms/step - loss: 0.2042 - acc: 0.9306 - val_loss: 0.3346 - val_acc: 0.8960\n",
      "\n",
      "Epoch 00016: val_acc did not improve\n",
      "Epoch 17/20\n",
      "280002/280002 [==============================] - 282s 1ms/step - loss: 0.2056 - acc: 0.9300 - val_loss: 0.5079 - val_acc: 0.8491\n",
      "\n",
      "Epoch 00017: val_acc did not improve\n",
      "Epoch 18/20\n",
      "280002/280002 [==============================] - 282s 1ms/step - loss: 0.2030 - acc: 0.9310 - val_loss: 0.3893 - val_acc: 0.8830\n",
      "\n",
      "Epoch 00018: val_acc did not improve\n",
      "Epoch 19/20\n",
      "280002/280002 [==============================] - 282s 1ms/step - loss: 0.2056 - acc: 0.9300 - val_loss: 0.3535 - val_acc: 0.8873\n",
      "\n",
      "Epoch 00019: val_acc did not improve\n",
      "Epoch 20/20\n",
      "280002/280002 [==============================] - 308s 1ms/step - loss: 0.2023 - acc: 0.9313 - val_loss: 0.3707 - val_acc: 0.8906\n",
      "\n",
      "Epoch 00020: val_acc did not improve\n"
     ]
    }
   ],
   "source": [
    "epochs = 20\n",
    "batch_size = 512\n",
    "\n",
    "model.compile(loss=keras.losses.categorical_crossentropy,\n",
    "              optimizer='adam',\n",
    "              metrics=['accuracy'])\n",
    "\n",
    "# checkpoint\n",
    "filepath=\"weights_best_timd.hdf5\"\n",
    "checkpoint = ModelCheckpoint(filepath, monitor='val_acc', verbose=1, save_best_only=True, mode='max')\n",
    "callbacks_list = [checkpoint]\n",
    "\n",
    "H = model.fit(X_train, Y_train,\n",
    "            batch_size=batch_size,\n",
    "            epochs=epochs,\n",
    "            verbose=1,\n",
    "            shuffle=True,\n",
    "            validation_data=(X_val, Y_val),\n",
    "             callbacks=callbacks_list)"
   ]
  },
  {
   "cell_type": "code",
   "execution_count": 13,
   "metadata": {},
   "outputs": [],
   "source": [
    "from keras.models import load_model\n",
    "from sklearn.metrics import confusion_matrix\n",
    "from sklearn.metrics import f1_score, accuracy_score\n",
    "import matplotlib.pyplot as plt\n",
    "import itertools"
   ]
  },
  {
   "cell_type": "code",
   "execution_count": 14,
   "metadata": {},
   "outputs": [],
   "source": [
    "def plot_confusion_matrix(cm, classes,\n",
    "                          normalize=False,\n",
    "                          title='Confusion matrix',\n",
    "                          cmap=plt.cm.Blues):\n",
    "    \"\"\"\n",
    "    This function prints and plots the confusion matrix.\n",
    "    Normalization can be applied by setting `normalize=True`.\n",
    "    \"\"\"\n",
    "    if normalize:\n",
    "        cm = cm.astype('float') / cm.sum(axis=1)[:, np.newaxis]\n",
    "        print(\"Normalized confusion matrix\")\n",
    "    else:\n",
    "        print('Confusion matrix, without normalization')\n",
    "\n",
    "    print(cm)\n",
    "\n",
    "    plt.imshow(cm, interpolation='nearest', cmap=cmap)\n",
    "    plt.title(title)\n",
    "    plt.colorbar()\n",
    "    tick_marks = np.arange(len(classes))\n",
    "    plt.xticks(tick_marks, classes, rotation=45)\n",
    "    plt.yticks(tick_marks, classes)\n",
    "\n",
    "    fmt = '.2f' if normalize else 'd'\n",
    "    thresh = cm.max() / 2.\n",
    "    for i, j in itertools.product(range(cm.shape[0]), range(cm.shape[1])):\n",
    "        plt.text(j, i, format(cm[i, j], fmt),\n",
    "                 horizontalalignment=\"center\",\n",
    "                 color=\"white\" if cm[i, j] > thresh else \"black\")\n",
    "\n",
    "    plt.tight_layout()\n",
    "    plt.ylabel('True label')\n",
    "    plt.xlabel('Predicted label')"
   ]
  },
  {
   "cell_type": "code",
   "execution_count": 15,
   "metadata": {},
   "outputs": [],
   "source": [
    "model = load_model('Conv_lstm_timd_94')\n",
    "#model = load_model('Conv_lstm_mag')"
   ]
  },
  {
   "cell_type": "code",
   "execution_count": 16,
   "metadata": {},
   "outputs": [
    {
     "name": "stdout",
     "output_type": "stream",
     "text": [
      "(131054, 125)\n"
     ]
    }
   ],
   "source": [
    "y_pred = np.argmax(model.predict(X_test), axis=2)\n",
    "print(y_pred.shape)\n"
   ]
  },
  {
   "cell_type": "code",
   "execution_count": 17,
   "metadata": {},
   "outputs": [],
   "source": [
    "y_pred3 = y_pred.reshape(-1)"
   ]
  },
  {
   "cell_type": "code",
   "execution_count": 18,
   "metadata": {
    "scrolled": false
   },
   "outputs": [
    {
     "data": {
      "image/png": "[encoded data removed]",
      "text/plain": [
       "<matplotlib.figure.Figure at 0x7fb2d899d470>"
      ]
     },
     "metadata": {},
     "output_type": "display_data"
    }
   ],
   "source": [
    "plt.figure()\n",
    "plt.plot(y_pred3[:20000])\n",
    "plt.show()"
   ]
  },
  {
   "cell_type": "code",
   "execution_count": 19,
   "metadata": {},
   "outputs": [
    {
     "name": "stdout",
     "output_type": "stream",
     "text": [
      "(131054,)\n"
     ]
    }
   ],
   "source": [
    "y_pred2 = np.zeros((int(len(y_pred3)/125)))\n",
    "ind = 0\n",
    "for i in range (0,len(y_pred3), 125):\n",
    "    (values,counts) = np.unique(y_pred3[i:i+125],return_counts=True)\n",
    "    c = np.argmax(counts)\n",
    "    y_pred2[ind] = values[c]\n",
    "    ind = ind+1\n",
    "print(y_pred2.shape)\n"
   ]
  },
  {
   "cell_type": "code",
   "execution_count": 20,
   "metadata": {},
   "outputs": [
    {
     "data": {
      "image/png": "[encoded data removed]",
      "text/plain": [
       "<matplotlib.figure.Figure at 0x7fb2d86e85f8>"
      ]
     },
     "metadata": {},
     "output_type": "display_data"
    }
   ],
   "source": [
    "plt.figure()\n",
    "plt.plot(y_pred2[:100])\n",
    "plt.show()"
   ]
  },
  {
   "cell_type": "code",
   "execution_count": 21,
   "metadata": {},
   "outputs": [
    {
     "data": {
      "image/png": "[encoded data removed]",
      "text/plain": [
       "<matplotlib.figure.Figure at 0x7fb2d86c5f60>"
      ]
     },
     "metadata": {},
     "output_type": "display_data"
    }
   ],
   "source": [
    "y_pred4 = np.zeros((int(len(y_pred2)/23)))\n",
    "ind = 0\n",
    "for i in range (0,len(y_pred2), 23):\n",
    "    (values,counts) = np.unique(y_pred2[i:i+23],return_counts=True)\n",
    "    c = np.argmax(counts)\n",
    "    y_pred4[ind] = values[c]\n",
    "    ind = ind+1\n",
    "    \n",
    "plt.figure()\n",
    "plt.plot(y_pred4[:100])\n",
    "plt.show()\n",
    "\n"
   ]
  },
  {
   "cell_type": "code",
   "execution_count": 22,
   "metadata": {},
   "outputs": [
    {
     "name": "stdout",
     "output_type": "stream",
     "text": [
      "(5698,)\n",
      "(5698, 6000)\n"
     ]
    }
   ],
   "source": [
    "print(y_pred4.shape)\n",
    "y_pred4 = np.int8(y_pred4) + 1\n",
    "y_pred4 = y_pred4.repeat(6000).reshape(-1,6000)\n",
    "print(y_pred4.shape)\n",
    "\n",
    "\n",
    "out_path='/home/sandeep/storage/HASCA-Workshop/Vikranth/Predictions/Final_60/'\n",
    "\n",
    "# data file with all the 16310 frames: 'Data_16310.npz'\n",
    "# data file with only 1000 frames: 'Data_1000.npz'\n",
    "\n",
    "out_file='timd_94'\n",
    "np.save(out_path + out_file, y_pred4)"
   ]
  },
  {
   "cell_type": "code",
   "execution_count": 59,
   "metadata": {},
   "outputs": [
    {
     "name": "stdout",
     "output_type": "stream",
     "text": [
      "(14382000,)\n",
      "(14382000,)\n",
      "[[1993214   26736    2528   12703    1409    7378   73535   20055]\n",
      " [  35682 1739198    4559    7421    1076    1361    6842   10407]\n",
      " [      0    1902  587174       0    1324       0       0       0]\n",
      " [  11495   17419    2538 1839557     851    3809    6088       0]\n",
      " [      0    4019    1037    3971 2226592    6000       0       0]\n",
      " [   6311    7878    2164    6000    6748 1715452    1916   17313]\n",
      " [  36530    2383       0    2348   12000   12000 1970555   78507]\n",
      " [  40768    6465       0       0    6000   54000  215064 1523718]]\n",
      "the mean-f1 score: 0.948444\n",
      "accuracy is: 0.945311\n"
     ]
    }
   ],
   "source": [
    "y_pred4 = y_pred4.reshape(-1)\n",
    "print(y_pred4.shape)\n"
   ]
  },
  {
   "cell_type": "code",
   "execution_count": 28,
   "metadata": {},
   "outputs": [],
   "source": [
    "y_pred4 = np.zeros((int(len(y_pred2)/23)*2))\n",
    "ind = 0\n",
    "for i in range (0,len(y_pred), 23):\n",
    "    (values,counts) = np.unique(y_pred2[i:i+14],return_counts=True)\n",
    "    c = np.argmax(counts)\n",
    "    y_pred4[ind] = values[c]\n",
    "    \n",
    "    (values,counts) = np.unique(y_pred2[i+9:i+23],return_counts=True)\n",
    "    c = np.argmax(counts)\n",
    "    y_pred4[ind+1] = values[c]\n",
    "    \n",
    "    ind = ind+2"
   ]
  },
  {
   "cell_type": "code",
   "execution_count": 29,
   "metadata": {},
   "outputs": [
    {
     "name": "stdout",
     "output_type": "stream",
     "text": [
      "(4794,)\n",
      "(2397, 6000)\n",
      "(2397, 6000)\n"
     ]
    }
   ],
   "source": [
    "print(y_pred4.shape)\n",
    "y_pred4 = np.int8(y_pred4) + 1\n",
    "y_pred4 = y_pred4.repeat(3000).reshape(-1,6000)\n",
    "print(y_pred4.shape)\n",
    "\n",
    "\n",
    "\n",
    "out_path='/home/sandeep/storage/HASCA-Workshop/Vikranth/Predictions/Final_30/'\n",
    "\n",
    "# data file with all the 16310 frames: 'Data_16310.npz'\n",
    "# data file with only 1000 frames: 'Data_1000.npz'\n",
    "\n",
    "out_file='timd_94'\n",
    "np.save(out_path + out_file, y_pred4)"
   ]
  },
  {
   "cell_type": "code",
   "execution_count": 30,
   "metadata": {},
   "outputs": [
    {
     "name": "stdout",
     "output_type": "stream",
     "text": [
      "(14382000,)\n",
      "(14382000,)\n",
      "[[2030220   15441    2528    7177    1409    7958   58535   14290]\n",
      " [  31444 1748336    4559    2837    1540    1361    3311   13158]\n",
      " [   3000    1902  583712     462    1324       0       0       0]\n",
      " [  17969   12835       0 1842869    1187     809    5465     623]\n",
      " [      0    1483    1037    1307 2234792    3000       0       0]\n",
      " [   5834    8935    2164    3000    6748 1720872    1916   14313]\n",
      " [  51530    4110       0    2348   18000   24000 1915451   98884]\n",
      " [  56003    3958       0       0    6000   63000  220322 1496732]]\n",
      "the mean-f1 score: 0.946837\n",
      "accuracy is: 0.943748\n"
     ]
    }
   ],
   "source": [
    "y_true = y_true.reshape(-1)\n",
    "y_pred4 = y_pred4.reshape(-1)\n",
    "print(y_true.shape)\n",
    "print(y_pred4.shape)\n",
    "cf_matrix = confusion_matrix(y_true, y_pred4)\n",
    "print(cf_matrix)\n",
    "class_wise_f1 = f1_score(y_true, y_pred4, average=None)\n",
    "accuracy = accuracy_score(y_true, y_pred4)\n",
    "\n",
    "print('the mean-f1 score: {:.6f}'.format(np.mean(class_wise_f1)))\n",
    "print('accuracy is: {:.6f}'.format(accuracy))"
   ]
  },
  {
   "cell_type": "code",
   "execution_count": 45,
   "metadata": {},
   "outputs": [
    {
     "data": {
      "text/plain": [
       "(55131,)"
      ]
     },
     "execution_count": 45,
     "metadata": {},
     "output_type": "execute_result"
    }
   ],
   "source": [
    "y_pred2.shape"
   ]
  },
  {
   "cell_type": "code",
   "execution_count": null,
   "metadata": {},
   "outputs": [],
   "source": []
  },
  {
   "cell_type": "code",
   "execution_count": null,
   "metadata": {},
   "outputs": [],
   "source": []
  },
  {
   "cell_type": "code",
   "execution_count": null,
   "metadata": {},
   "outputs": [],
   "source": []
  },
  {
   "cell_type": "code",
   "execution_count": null,
   "metadata": {},
   "outputs": [],
   "source": []
  },
  {
   "cell_type": "code",
   "execution_count": 70,
   "metadata": {},
   "outputs": [],
   "source": [
    "model.save('Conv_lstm_timd_94')"
   ]
  },
  {
   "cell_type": "code",
   "execution_count": 49,
   "metadata": {},
   "outputs": [
    {
     "name": "stdout",
     "output_type": "stream",
     "text": [
      "(55131,)\n"
     ]
    }
   ],
   "source": [
    "print(y_pred2.shape)"
   ]
  }
 ],
 "metadata": {
  "kernelspec": {
   "display_name": "Python 3",
   "language": "python",
   "name": "python3"
  },
  "language_info": {
   "codemirror_mode": {
    "name": "ipython",
    "version": 3
   },
   "file_extension": ".py",
   "mimetype": "text/x-python",
   "name": "python",
   "nbconvert_exporter": "python",
   "pygments_lexer": "ipython3",
   "version": "3.6.8"
  }
 },
 "nbformat": 4,
 "nbformat_minor": 1
}
