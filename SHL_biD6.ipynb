{
 "cells": [
  {
   "cell_type": "markdown",
   "metadata": {},
   "source": [
    "## Import required Python modules"
   ]
  },
  {
   "cell_type": "markdown",
   "metadata": {},
   "source": [
    "## Download data and pre-proces data"
   ]
  },
  {
   "cell_type": "code",
   "execution_count": 6,
   "metadata": {},
   "outputs": [],
   "source": [
    "import numpy as np\n",
    "from matplotlib import pyplot as plt"
   ]
  },
  {
   "cell_type": "code",
   "execution_count": 7,
   "metadata": {},
   "outputs": [],
   "source": [
    "# NPZ files path\n",
    "data_path='/home/sandeep/storage/extracted_data/test'\n",
    "\n",
    "# data file with all the 16310 frames: 'Data_16310.npz'\n",
    "# data file with only 1000 frames: 'Data_1000.npz'\n",
    "\n",
    "#data_file='/Data_16310.npz'\n",
    "data_file = '/Test_Data_5698.npz'\n",
    "data=np.load(data_path+data_file)"
   ]
  },
  {
   "cell_type": "raw",
   "metadata": {},
   "source": [
    "accx= data['arr_0']\n",
    "accy= data['arr_1']\n",
    "accz= data['arr_2']\n",
    "gyrox= data['arr_3']\n",
    "gyroy= data['arr_4']\n",
    "gyroz= data['arr_5']\n",
    "magx= data['arr_6']\n",
    "magy= data['arr_7']\n",
    "magz= data['arr_8']\n",
    "laccx= data['arr_9']\n",
    "laccy= data['arr_10']\n",
    "laccz= data['arr_11']\n",
    "grax= data['arr_12']\n",
    "gray= data['arr_13']\n",
    "graz= data['arr_14']\n",
    "oriw= data['arr_15']\n",
    "orix= data['arr_16']\n",
    "oriy= data['arr_17']\n",
    "oriz= data['arr_18']\n",
    "press= data['arr_19']\n",
    "label= data['arr_20']"
   ]
  },
  {
   "cell_type": "code",
   "execution_count": 8,
   "metadata": {
    "scrolled": true
   },
   "outputs": [
    {
     "name": "stdout",
     "output_type": "stream",
     "text": [
      "(5698, 6000, 10)\n",
      "1367520000\n",
      "(131054, 500, 10)\n"
     ]
    },
    {
     "name": "stderr",
     "output_type": "stream",
     "text": [
      "/home/sandeep/anaconda3/envs/py36/lib/python3.6/site-packages/h5py/__init__.py:36: FutureWarning: Conversion of the second argument of issubdtype from `float` to `np.floating` is deprecated. In future, it will be treated as `np.float64 == np.dtype(float).type`.\n",
      "  from ._conv import register_converters as _register_converters\n",
      "Using TensorFlow backend.\n"
     ]
    },
    {
     "name": "stdout",
     "output_type": "stream",
     "text": [
      "(0, 500, 10)\n",
      "(0, 500, 10)\n",
      "(131054, 500, 10)\n",
      "500\n",
      "10\n",
      "ConvLSTM\n",
      "_________________________________________________________________\n",
      "Layer (type)                 Output Shape              Param #   \n",
      "=================================================================\n",
      "conv2d_1 (Conv2D)            (None, 10, 500, 32)       192       \n",
      "_________________________________________________________________\n",
      "batch_normalization_1 (Batch (None, 10, 500, 32)       128       \n",
      "_________________________________________________________________\n",
      "max_pooling2d_1 (MaxPooling2 (None, 10, 250, 32)       0         \n",
      "_________________________________________________________________\n",
      "dropout_1 (Dropout)          (None, 10, 250, 32)       0         \n",
      "_________________________________________________________________\n",
      "conv2d_2 (Conv2D)            (None, 10, 250, 64)       6208      \n",
      "_________________________________________________________________\n",
      "batch_normalization_2 (Batch (None, 10, 250, 64)       256       \n",
      "_________________________________________________________________\n",
      "max_pooling2d_2 (MaxPooling2 (None, 10, 125, 64)       0         \n",
      "_________________________________________________________________\n",
      "dropout_2 (Dropout)          (None, 10, 125, 64)       0         \n",
      "_________________________________________________________________\n",
      "conv2d_3 (Conv2D)            (None, 10, 125, 128)      73856     \n",
      "_________________________________________________________________\n",
      "batch_normalization_3 (Batch (None, 10, 125, 128)      512       \n",
      "_________________________________________________________________\n",
      "max_pooling2d_3 (MaxPooling2 (None, 10, 62, 128)       0         \n",
      "_________________________________________________________________\n",
      "dropout_3 (Dropout)          (None, 10, 62, 128)       0         \n",
      "_________________________________________________________________\n",
      "permute_1 (Permute)          (None, 62, 10, 128)       0         \n",
      "_________________________________________________________________\n",
      "reshape_1 (Reshape)          (None, 62, 1280)          0         \n",
      "_________________________________________________________________\n",
      "bidirectional_1 (Bidirection (None, 64)                336128    \n",
      "_________________________________________________________________\n",
      "dropout_4 (Dropout)          (None, 64)                0         \n",
      "_________________________________________________________________\n",
      "dense_1 (Dense)              (None, 8)                 520       \n",
      "=================================================================\n",
      "Total params: 417,800\n",
      "Trainable params: 417,352\n",
      "Non-trainable params: 448\n",
      "_________________________________________________________________\n",
      "None\n"
     ]
    }
   ],
   "source": [
    "X = np.float32(np.dstack((np.float32(data['arr_0']), np.float32(data['arr_1']), np.float32(data['arr_2']),\n",
    "                          np.float32(data['arr_3']), np.float32(data['arr_4']), np.float32(data['arr_5']),\n",
    "                          np.float32(data['arr_6']), np.float32(data['arr_7']), np.float32(data['arr_8']),\n",
    "                          np.float32(data['arr_19']))))\n",
    "print(X.shape)\n",
    "print(X.nbytes)\n",
    "\n",
    "\n",
    "def strided_app(a, L, S ):  # Window len = L, Stride len/stepsize = S\n",
    "    nrows = ((a.shape[0]-L)//S)+1\n",
    "    n = a.strides[0]\n",
    "    return np.lib.stride_tricks.as_strided(a, shape=(nrows,L,a.shape[1] ), strides=(S*n,n,a.strides[1]))\n",
    "\n",
    "X2 = []\n",
    "for i in range (0, X.shape[0]):\n",
    "    X2.append(strided_app(X[i],500,250))\n",
    "    \n",
    "X2 = np.asarray(X2)\n",
    "X2 = X2.reshape((-1,500,10))\n",
    "print(X2.shape)\n",
    "del X\n",
    "\n",
    "\n",
    "\n",
    "import keras\n",
    "from keras.models import Sequential\n",
    "from keras.layers import Conv2D, MaxPooling2D, LSTM, Dense, Dropout, Flatten, Bidirectional\n",
    "from keras.layers.normalization import BatchNormalization\n",
    "from keras.layers.core import Permute, Reshape\n",
    "from keras import backend as K\n",
    "from keras.callbacks import ModelCheckpoint\n",
    "from keras.models import load_model\n",
    "from sklearn.metrics import confusion_matrix\n",
    "from sklearn.metrics import f1_score, accuracy_score\n",
    "import matplotlib.pyplot as plt\n",
    "import itertools\n",
    "\n",
    "\n",
    "z = 0\n",
    "z1 = 0\n",
    "X_train0 = X2[z:z1]\n",
    "X_val0 = X2[:z]\n",
    "X_test0 = X2[z1:]\n",
    "print(np.shape(X_train0))\n",
    "print(np.shape(X_val0))\n",
    "print(np.shape(X_test0))\n",
    "\n",
    "\n",
    "def _data_reshaping(X_tr, X_va, X_ts, network_type):\n",
    "    _, win_len, dim = X_tr.shape\n",
    "    print(network_type)\n",
    "    if network_type=='CNN' or network_type=='ConvLSTM':\n",
    "        \n",
    "        # make it into (frame_number, dimension, window_size, channel=1) for convNet\n",
    "        X_tr = np.swapaxes(X_tr,1,2)\n",
    "        X_va = np.swapaxes(X_va,1,2)\n",
    "        X_ts = np.swapaxes(X_ts,1,2)\n",
    "\n",
    "        X_tr = np.reshape(X_tr, (-1, dim, win_len, 1))\n",
    "        X_va = np.reshape(X_va, (-1, dim, win_len, 1))\n",
    "        X_ts = np.reshape(X_ts, (-1, dim, win_len, 1))\n",
    "        \n",
    "    if network_type=='MLP':\n",
    "        print('MLP...')\n",
    "        X_tr = np.reshape(X_tr, (-1, dim*win_len))\n",
    "        X_va = np.reshape(X_va, (-1, dim*win_len))\n",
    "        X_ts = np.reshape(X_ts, (-1, dim*win_len))\n",
    "    \n",
    "    return X_tr, X_va, X_ts\n",
    "\n",
    "\n",
    "#network_type = 'CNN'\n",
    "network_type = 'ConvLSTM'\n",
    "#network_type = 'LSTM'\n",
    "#network_type = 'MLP'\n",
    "_, win_len, dim = X_train0.shape\n",
    "print(win_len)\n",
    "print(dim)\n",
    "\n",
    "X_train, X_val, X_test = _data_reshaping(X_train0, X_val0, X_test0, network_type)\n",
    "\n",
    "model = load_model('Conv_lstm_bid6_94')\n",
    "print(model.summary())"
   ]
  },
  {
   "cell_type": "code",
   "execution_count": 9,
   "metadata": {},
   "outputs": [
    {
     "data": {
      "image/png": "[encoded data removed]",
      "text/plain": [
       "<matplotlib.figure.Figure at 0x7fb350fbde10>"
      ]
     },
     "metadata": {},
     "output_type": "display_data"
    },
    {
     "name": "stdout",
     "output_type": "stream",
     "text": [
      "(5698,)\n",
      "(5698, 6000)\n",
      "(11396,)\n",
      "(5698, 6000)\n"
     ]
    }
   ],
   "source": [
    "y_pred = np.argmax(model.predict(X_test), axis=1)\n",
    "y_pred2 = np.zeros((int(len(y_pred)/23)))\n",
    "\n",
    "ind = 0\n",
    "for i in range (0,len(y_pred), 23):\n",
    "    (values,counts) = np.unique(y_pred[i:i+23],return_counts=True)\n",
    "    c = np.argmax(counts)\n",
    "    y_pred2[ind] = values[c]\n",
    "    ind = ind+1\n",
    "plt.figure()\n",
    "plt.plot(y_pred2[:100])\n",
    "plt.show()\n",
    "\n",
    "\n",
    "print(y_pred2.shape)\n",
    "y_pred2 = np.int8(y_pred2) + 1\n",
    "y_pred2 = y_pred2.repeat(6000).reshape(-1,6000)\n",
    "print(y_pred2.shape)\n",
    "\n",
    "out_path='/home/sandeep/storage/HASCA-Workshop/Vikranth/Predictions/Final_60/'\n",
    "\n",
    "# data file with all the 16310 frames: 'Data_16310.npz'\n",
    "# data file with only 1000 frames: 'Data_1000.npz'\n",
    "\n",
    "out_file='bid6_94'\n",
    "np.save(out_path + out_file, y_pred2)\n",
    "\n",
    "y_pred2 = np.zeros((int(len(y_pred)/23)*2))\n",
    "ind = 0\n",
    "for i in range (0,len(y_pred), 23):\n",
    "    (values,counts) = np.unique(y_pred[i:i+14],return_counts=True)\n",
    "    c = np.argmax(counts)\n",
    "    y_pred2[ind] = values[c]\n",
    "    (values,counts) = np.unique(y_pred[i+10:i+23],return_counts=True)\n",
    "    c = np.argmax(counts)\n",
    "    y_pred2[ind+1] = values[c]\n",
    "    ind = ind+2\n",
    "\n",
    "print(y_pred2.shape)\n",
    "y_pred2 = np.int8(y_pred2) + 1\n",
    "y_pred2 = y_pred2.repeat(3000).reshape(-1,6000)\n",
    "print(y_pred2.shape)\n",
    "\n",
    "\n",
    "out_path='/home/sandeep/storage/HASCA-Workshop/Vikranth/Predictions/Final_30/'\n",
    "\n",
    "# data file with all the 16310 frames: 'Data_16310.npz'\n",
    "# data file with only 1000 frames: 'Data_1000.npz'\n",
    "\n",
    "out_file='bid6_94'\n",
    "np.save(out_path + out_file, y_pred2)\n"
   ]
  },
  {
   "cell_type": "code",
   "execution_count": 4,
   "metadata": {},
   "outputs": [
    {
     "name": "stdout",
     "output_type": "stream",
     "text": [
      "(5698, 6000, 10)\n"
     ]
    }
   ],
   "source": [
    "X = np.float32(np.dstack((np.float32(data['arr_0']), np.float32(data['arr_1']), np.float32(data['arr_2']),\n",
    "                          np.float32(data['arr_3']), np.float32(data['arr_4']), np.float32(data['arr_5']),\n",
    "                          np.float32(data['arr_6']), np.float32(data['arr_7']), np.float32(data['arr_8']),\n",
    "                          np.float32(data['arr_19']))))\n",
    "Y = np.int8(data['arr_20'] - 1)\n",
    "#X = np.float32(X)\n",
    "#Y = np.int8(Y)\n",
    "print(X.shape)\n",
    "print(Y.shape)"
   ]
  },
  {
   "cell_type": "code",
   "execution_count": 5,
   "metadata": {},
   "outputs": [
    {
     "name": "stdout",
     "output_type": "stream",
     "text": [
      "1367520000\n"
     ]
    }
   ],
   "source": [
    "print(X.nbytes)\n",
    "print(Y.nbytes)"
   ]
  },
  {
   "cell_type": "code",
   "execution_count": 5,
   "metadata": {},
   "outputs": [],
   "source": [
    "def strided_app(a, L, S ):  # Window len = L, Stride len/stepsize = S\n",
    "    nrows = ((a.shape[0]-L)//S)+1\n",
    "    n = a.strides[0]\n",
    "    return np.lib.stride_tricks.as_strided(a, shape=(nrows,L,a.shape[1] ), strides=(S*n,n,a.strides[1]))"
   ]
  },
  {
   "cell_type": "code",
   "execution_count": 6,
   "metadata": {
    "scrolled": true
   },
   "outputs": [
    {
     "name": "stdout",
     "output_type": "stream",
     "text": [
      "(375130, 500, 10)\n"
     ]
    }
   ],
   "source": [
    "X2 = []\n",
    "for i in range (0, X.shape[0]):\n",
    "    X2.append(strided_app(X[i],500,250))\n",
    "    \n",
    "X2 = np.asarray(X2)\n",
    "X2 = X2.reshape((-1,500,10))\n",
    "print(X2.shape)\n",
    "del X"
   ]
  },
  {
   "cell_type": "code",
   "execution_count": 7,
   "metadata": {},
   "outputs": [
    {
     "name": "stdout",
     "output_type": "stream",
     "text": [
      "(375130, 500, 1)\n"
     ]
    }
   ],
   "source": [
    "Y = np.expand_dims(Y, axis=2)\n",
    "Y2 = []\n",
    "for i in range (0, Y.shape[0]):\n",
    "    Y2.append(strided_app(Y[i],500,250))\n",
    "    \n",
    "Y2 = np.asarray(Y2)\n",
    "Y2 = Y2.reshape((-1,500,1))\n",
    "print(Y2.shape)\n",
    "del Y"
   ]
  },
  {
   "cell_type": "code",
   "execution_count": 8,
   "metadata": {
    "scrolled": true
   },
   "outputs": [
    {
     "name": "stdout",
     "output_type": "stream",
     "text": [
      "(375130, 1)\n"
     ]
    }
   ],
   "source": [
    "Y2 = Y2[:,0]\n",
    "print(Y2.shape)"
   ]
  },
  {
   "cell_type": "markdown",
   "metadata": {},
   "source": [
    "## Load the pre-processed data"
   ]
  },
  {
   "cell_type": "code",
   "execution_count": 9,
   "metadata": {},
   "outputs": [
    {
     "name": "stderr",
     "output_type": "stream",
     "text": [
      "/home/sandeep/anaconda3/envs/py36/lib/python3.6/site-packages/h5py/__init__.py:36: FutureWarning: Conversion of the second argument of issubdtype from `float` to `np.floating` is deprecated. In future, it will be treated as `np.float64 == np.dtype(float).type`.\n",
      "  from ._conv import register_converters as _register_converters\n",
      "Using TensorFlow backend.\n"
     ]
    }
   ],
   "source": [
    "import keras\n",
    "from keras.models import Sequential\n",
    "from keras.layers import Conv2D, MaxPooling2D, LSTM, Dense, Dropout, Flatten, Bidirectional\n",
    "from keras.layers.normalization import BatchNormalization\n",
    "from keras.layers.core import Permute, Reshape\n",
    "from keras import backend as K\n",
    "from keras.callbacks import ModelCheckpoint"
   ]
  },
  {
   "cell_type": "code",
   "execution_count": 10,
   "metadata": {},
   "outputs": [
    {
     "name": "stdout",
     "output_type": "stream",
     "text": [
      "(280002, 500, 10)\n",
      "(280002,)\n",
      "(39997, 500, 10)\n",
      "(39997,)\n",
      "(55131, 500, 10)\n",
      "(55131,)\n"
     ]
    }
   ],
   "source": [
    "z = 39997\n",
    "z1 = 319999\n",
    "X_train0 = X2[z:z1]\n",
    "Y_train = Y2[z:z1].reshape(-1).astype(np.uint8)\n",
    "X_val0 = X2[:z]\n",
    "Y_val = Y2[:z].reshape(-1).astype(np.uint8)\n",
    "X_test0 = X2[z1:]\n",
    "Y_test = Y2[z1:].reshape(-1).astype(np.uint8)\n",
    "print(np.shape(X_train0))\n",
    "print(np.shape(Y_train))\n",
    "print(np.shape(X_val0))\n",
    "print(np.shape(Y_val))\n",
    "print(np.shape(X_test0))\n",
    "print(np.shape(Y_test))"
   ]
  },
  {
   "cell_type": "code",
   "execution_count": 11,
   "metadata": {},
   "outputs": [
    {
     "name": "stdout",
     "output_type": "stream",
     "text": [
      "(280002,)\n",
      "(280002, 500, 10)\n"
     ]
    }
   ],
   "source": [
    "np.random.seed(42)\n",
    "p = np.random.permutation(Y_train.shape[0])\n",
    "Y_train = Y_train[p]\n",
    "X_train0 = X_train0[p,:,:]\n",
    "print(Y_train.shape)\n",
    "print(X_train0.shape)"
   ]
  },
  {
   "cell_type": "code",
   "execution_count": 12,
   "metadata": {},
   "outputs": [],
   "source": [
    "num_classes = 8\n",
    "Y_train = keras.utils.to_categorical(Y_train, num_classes)\n",
    "Y_val = keras.utils.to_categorical(Y_val, num_classes)\n",
    "Y_test = keras.utils.to_categorical(Y_test, num_classes)"
   ]
  },
  {
   "cell_type": "markdown",
   "metadata": {},
   "source": [
    "## My Models"
   ]
  },
  {
   "cell_type": "code",
   "execution_count": 13,
   "metadata": {},
   "outputs": [],
   "source": [
    "def _data_reshaping(X_tr, X_va, X_ts, network_type):\n",
    "    _, win_len, dim = X_tr.shape\n",
    "    print(network_type)\n",
    "    if network_type=='CNN' or network_type=='ConvLSTM':\n",
    "        \n",
    "        # make it into (frame_number, dimension, window_size, channel=1) for convNet\n",
    "        X_tr = np.swapaxes(X_tr,1,2)\n",
    "        X_va = np.swapaxes(X_va,1,2)\n",
    "        X_ts = np.swapaxes(X_ts,1,2)\n",
    "\n",
    "        X_tr = np.reshape(X_tr, (-1, dim, win_len, 1))\n",
    "        X_va = np.reshape(X_va, (-1, dim, win_len, 1))\n",
    "        X_ts = np.reshape(X_ts, (-1, dim, win_len, 1))\n",
    "        \n",
    "    if network_type=='MLP':\n",
    "        print('MLP...')\n",
    "        X_tr = np.reshape(X_tr, (-1, dim*win_len))\n",
    "        X_va = np.reshape(X_va, (-1, dim*win_len))\n",
    "        X_ts = np.reshape(X_ts, (-1, dim*win_len))\n",
    "    \n",
    "    return X_tr, X_va, X_ts"
   ]
  },
  {
   "cell_type": "code",
   "execution_count": 14,
   "metadata": {},
   "outputs": [],
   "source": [
    "def model_variant(model, num_feat_map, dim, network_type,p):\n",
    "    print(network_type)\n",
    "    if network_type == 'ConvLSTM':\n",
    "        model.add(Permute((2, 1, 3))) # for swap-dimension\n",
    "        model.add(Reshape((-1,num_feat_map*dim)))\n",
    "        model.add(Bidirectional(LSTM(32, return_sequences=False, stateful=False)))\n",
    "        #model.add(LSTM(32, return_sequences=False, stateful=False))\n",
    "        model.add(Dropout(p))\n",
    "    if network_type == 'CNN':\n",
    "        \n",
    "        model.add(Flatten())\n",
    "        model.add(Dense(32, activation='relu'))\n",
    "        model.add(BatchNormalization()) #added\n",
    "        model.add(Dropout(p))\n",
    "\n",
    "        \n",
    "def model_conv(model, num_feat_map,p,b):\n",
    "    model.add(Conv2D(32, kernel_size=(1, 5),    # Original Kernel size(1,5)\n",
    "                 activation='relu',\n",
    "                 input_shape=(dim, win_len, 1),\n",
    "                 padding='same'))\n",
    "    if (b==1):\n",
    "        model.add(BatchNormalization()) #added\n",
    "    model.add(MaxPooling2D(pool_size=(1, 2)))\n",
    "    model.add(Dropout(p))\n",
    "    model.add(Conv2D(64, kernel_size=(1, 3), activation='relu',padding='same'))  # Original Kernel size(1,5)\n",
    "    if (b==1):\n",
    "        model.add(BatchNormalization()) #added\n",
    "    model.add(MaxPooling2D(pool_size=(1, 2)))\n",
    "    model.add(Dropout(p))\n",
    "    model.add(Conv2D(num_feat_map, kernel_size=(3, 3), activation='relu',padding='same'))  # Original Kernel size(1,5)\n",
    "    if (b==1):\n",
    "        model.add(BatchNormalization()) #added\n",
    "    model.add(MaxPooling2D(pool_size=(1, 2)))\n",
    "    model.add(Dropout(p))\n",
    "    \n",
    "def model_LSTM(model,p):\n",
    "    model.add(LSTM(num_hidden_lstm, \n",
    "               input_shape=(win_len,dim), \n",
    "               return_sequences=True))\n",
    "    model.add(Dropout(p))\n",
    "    model.add(LSTM(num_hidden_lstm, return_sequences=False))\n",
    "    model.add(Dropout(p))\n",
    "\n",
    "def model_MLP(model, num_hidden_mlp,p):\n",
    "    model.add(Dense(num_hidden_mlp, activation='relu', input_shape=(dim*win_len,)))\n",
    "    model.add(Dropout(p))\n",
    "    model.add(Dense(num_hidden_mlp, activation='relu'))\n",
    "    model.add(Dropout(p))\n",
    "    \n",
    "def model_output(model):\n",
    "    model.add(Dense(num_classes, activation='softmax'))"
   ]
  },
  {
   "cell_type": "code",
   "execution_count": 15,
   "metadata": {},
   "outputs": [
    {
     "name": "stdout",
     "output_type": "stream",
     "text": [
      "500\n",
      "10\n",
      "ConvLSTM\n"
     ]
    }
   ],
   "source": [
    "batch_size = 512\n",
    "num_feat_map = 128\n",
    "num_hidden_mlp = 128\n",
    "num_hidden_lstm = 64\n",
    "num_classes = 8\n",
    "\n",
    "#network_type = 'CNN'\n",
    "network_type = 'ConvLSTM'\n",
    "#network_type = 'LSTM'\n",
    "#network_type = 'MLP'\n",
    "_, win_len, dim = X_train0.shape\n",
    "print(win_len)\n",
    "print(dim)\n",
    "\n",
    "X_train, X_val, X_test = _data_reshaping(X_train0, X_val0, X_test0, network_type)"
   ]
  },
  {
   "cell_type": "code",
   "execution_count": 16,
   "metadata": {},
   "outputs": [
    {
     "name": "stdout",
     "output_type": "stream",
     "text": [
      "building the model ... \n",
      "ConvLSTM\n",
      "_________________________________________________________________\n",
      "Layer (type)                 Output Shape              Param #   \n",
      "=================================================================\n",
      "conv2d_1 (Conv2D)            (None, 10, 500, 32)       192       \n",
      "_________________________________________________________________\n",
      "batch_normalization_1 (Batch (None, 10, 500, 32)       128       \n",
      "_________________________________________________________________\n",
      "max_pooling2d_1 (MaxPooling2 (None, 10, 250, 32)       0         \n",
      "_________________________________________________________________\n",
      "dropout_1 (Dropout)          (None, 10, 250, 32)       0         \n",
      "_________________________________________________________________\n",
      "conv2d_2 (Conv2D)            (None, 10, 250, 64)       6208      \n",
      "_________________________________________________________________\n",
      "batch_normalization_2 (Batch (None, 10, 250, 64)       256       \n",
      "_________________________________________________________________\n",
      "max_pooling2d_2 (MaxPooling2 (None, 10, 125, 64)       0         \n",
      "_________________________________________________________________\n",
      "dropout_2 (Dropout)          (None, 10, 125, 64)       0         \n",
      "_________________________________________________________________\n",
      "conv2d_3 (Conv2D)            (None, 10, 125, 128)      73856     \n",
      "_________________________________________________________________\n",
      "batch_normalization_3 (Batch (None, 10, 125, 128)      512       \n",
      "_________________________________________________________________\n",
      "max_pooling2d_3 (MaxPooling2 (None, 10, 62, 128)       0         \n",
      "_________________________________________________________________\n",
      "dropout_3 (Dropout)          (None, 10, 62, 128)       0         \n",
      "_________________________________________________________________\n",
      "permute_1 (Permute)          (None, 62, 10, 128)       0         \n",
      "_________________________________________________________________\n",
      "reshape_1 (Reshape)          (None, 62, 1280)          0         \n",
      "_________________________________________________________________\n",
      "bidirectional_1 (Bidirection (None, 64)                336128    \n",
      "_________________________________________________________________\n",
      "dropout_4 (Dropout)          (None, 64)                0         \n",
      "_________________________________________________________________\n",
      "dense_1 (Dense)              (None, 8)                 520       \n",
      "=================================================================\n",
      "Total params: 417,800\n",
      "Trainable params: 417,352\n",
      "Non-trainable params: 448\n",
      "_________________________________________________________________\n"
     ]
    }
   ],
   "source": [
    "p=0.3 #Dropout\n",
    "b = 1 #BatchNorm\n",
    "print('building the model ... ')\n",
    "model = Sequential()\n",
    "\n",
    "if network_type=='CNN' or network_type=='ConvLSTM':\n",
    "    model_conv(model, num_feat_map,p,b)\n",
    "    model_variant(model, num_feat_map, dim, network_type,p)\n",
    "if network_type=='LSTM':\n",
    "    model_LSTM(model,p)\n",
    "if network_type=='MLP': \n",
    "    model_MLP(model, num_hidden_mlp,p) \n",
    "       \n",
    "model_output(model)    \n",
    "model.summary()"
   ]
  },
  {
   "cell_type": "code",
   "execution_count": null,
   "metadata": {
    "scrolled": true
   },
   "outputs": [
    {
     "name": "stdout",
     "output_type": "stream",
     "text": [
      "Train on 280002 samples, validate on 39997 samples\n",
      "Epoch 1/40\n",
      "280002/280002 [==============================] - 216s 773us/step - loss: 0.3089 - acc: 0.8938 - val_loss: 0.7506 - val_acc: 0.7555\n",
      "\n",
      "Epoch 00001: val_acc improved from -inf to 0.75546, saving model to weights_best_bid6.hdf5\n",
      "Epoch 2/40\n",
      "280002/280002 [==============================] - 215s 767us/step - loss: 0.2906 - acc: 0.9010 - val_loss: 0.6289 - val_acc: 0.8013\n",
      "\n",
      "Epoch 00002: val_acc improved from 0.75546 to 0.80134, saving model to weights_best_bid6.hdf5\n",
      "Epoch 3/40\n",
      "280002/280002 [==============================] - 215s 767us/step - loss: 0.2731 - acc: 0.9079 - val_loss: 0.5916 - val_acc: 0.8060\n",
      "\n",
      "Epoch 00003: val_acc improved from 0.80134 to 0.80599, saving model to weights_best_bid6.hdf5\n",
      "Epoch 4/40\n",
      "280002/280002 [==============================] - 215s 768us/step - loss: 0.2556 - acc: 0.9139 - val_loss: 0.5156 - val_acc: 0.8354\n",
      "\n",
      "Epoch 00004: val_acc improved from 0.80599 to 0.83539, saving model to weights_best_bid6.hdf5\n",
      "Epoch 5/40\n",
      "280002/280002 [==============================] - 215s 767us/step - loss: 0.2451 - acc: 0.9173 - val_loss: 0.5348 - val_acc: 0.8326\n",
      "\n",
      "Epoch 00005: val_acc did not improve\n",
      "Epoch 6/40\n",
      "280002/280002 [==============================] - 215s 768us/step - loss: 0.2305 - acc: 0.9227 - val_loss: 0.5454 - val_acc: 0.8365\n",
      "\n",
      "Epoch 00006: val_acc improved from 0.83539 to 0.83649, saving model to weights_best_bid6.hdf5\n",
      "Epoch 7/40\n",
      " 12288/280002 [>.............................] - ETA: 3:16 - loss: 0.2217 - acc: 0.9251"
     ]
    },
    {
     "name": "stderr",
     "output_type": "stream",
     "text": [
      "IOPub message rate exceeded.\n",
      "The notebook server will temporarily stop sending output\n",
      "to the client in order to avoid crashing it.\n",
      "To change this limit, set the config variable\n",
      "`--NotebookApp.iopub_msg_rate_limit`.\n",
      "\n",
      "Current values:\n",
      "NotebookApp.iopub_msg_rate_limit=1000.0 (msgs/sec)\n",
      "NotebookApp.rate_limit_window=3.0 (secs)\n",
      "\n"
     ]
    },
    {
     "name": "stdout",
     "output_type": "stream",
     "text": [
      "280002/280002 [==============================] - 215s 768us/step - loss: 0.2024 - acc: 0.9319 - val_loss: 0.5139 - val_acc: 0.8474\n",
      "\n",
      "Epoch 00010: val_acc did not improve\n",
      "Epoch 11/40\n",
      "280002/280002 [==============================] - 215s 767us/step - loss: 0.1973 - acc: 0.9338 - val_loss: 0.3633 - val_acc: 0.8900\n",
      "\n",
      "Epoch 00011: val_acc improved from 0.87349 to 0.89002, saving model to weights_best_bid6.hdf5\n",
      "Epoch 12/40\n",
      "280002/280002 [==============================] - 215s 768us/step - loss: 0.1939 - acc: 0.9356 - val_loss: 0.5097 - val_acc: 0.8503\n",
      "\n",
      "Epoch 00012: val_acc did not improve\n",
      "Epoch 13/40\n",
      " 30720/280002 [==>...........................] - ETA: 3:03 - loss: 0.1806 - acc: 0.9402"
     ]
    }
   ],
   "source": [
    "epochs = 40\n",
    "batch_size = 512\n",
    "\n",
    "model.compile(loss=keras.losses.categorical_crossentropy,\n",
    "              optimizer='adam',\n",
    "              metrics=['accuracy'])\n",
    "\n",
    "# checkpoint\n",
    "filepath=\"weights_best_bid6.hdf5\"\n",
    "checkpoint = ModelCheckpoint(filepath, monitor='val_acc', verbose=1, save_best_only=True, mode='max')\n",
    "callbacks_list = [checkpoint]\n",
    "\n",
    "H = model.fit(X_train, Y_train,\n",
    "            batch_size=batch_size,\n",
    "            epochs=epochs,\n",
    "            verbose=1,\n",
    "            shuffle=True,\n",
    "            validation_data=(X_val, Y_val),\n",
    "             callbacks=callbacks_list)"
   ]
  },
  {
   "cell_type": "code",
   "execution_count": 16,
   "metadata": {},
   "outputs": [],
   "source": [
    "from keras.models import load_model\n",
    "from sklearn.metrics import confusion_matrix\n",
    "from sklearn.metrics import f1_score, accuracy_score\n",
    "import matplotlib.pyplot as plt\n",
    "import itertools"
   ]
  },
  {
   "cell_type": "code",
   "execution_count": 17,
   "metadata": {},
   "outputs": [],
   "source": [
    "def plot_confusion_matrix(cm, classes,\n",
    "                          normalize=False,\n",
    "                          title='Confusion matrix',\n",
    "                          cmap=plt.cm.Blues):\n",
    "    \"\"\"\n",
    "    This function prints and plots the confusion matrix.\n",
    "    Normalization can be applied by setting `normalize=True`.\n",
    "    \"\"\"\n",
    "    if normalize:\n",
    "        cm = cm.astype('float') / cm.sum(axis=1)[:, np.newaxis]\n",
    "        print(\"Normalized confusion matrix\")\n",
    "    else:\n",
    "        print('Confusion matrix, without normalization')\n",
    "\n",
    "    print(cm)\n",
    "\n",
    "    plt.imshow(cm, interpolation='nearest', cmap=cmap)\n",
    "    plt.title(title)\n",
    "    plt.colorbar()\n",
    "    tick_marks = np.arange(len(classes))\n",
    "    plt.xticks(tick_marks, classes, rotation=45)\n",
    "    plt.yticks(tick_marks, classes)\n",
    "\n",
    "    fmt = '.2f' if normalize else 'd'\n",
    "    thresh = cm.max() / 2.\n",
    "    for i, j in itertools.product(range(cm.shape[0]), range(cm.shape[1])):\n",
    "        plt.text(j, i, format(cm[i, j], fmt),\n",
    "                 horizontalalignment=\"center\",\n",
    "                 color=\"white\" if cm[i, j] > thresh else \"black\")\n",
    "\n",
    "    plt.tight_layout()\n",
    "    plt.ylabel('True label')\n",
    "    plt.xlabel('Predicted label')"
   ]
  },
  {
   "cell_type": "code",
   "execution_count": 18,
   "metadata": {},
   "outputs": [],
   "source": [
    "model = load_model('weights_best_bid6.hdf5')\n",
    "#model = load_model('Conv_lstm_mag')"
   ]
  },
  {
   "cell_type": "code",
   "execution_count": 34,
   "metadata": {},
   "outputs": [
    {
     "name": "stdout",
     "output_type": "stream",
     "text": [
      "_________________________________________________________________\n",
      "Layer (type)                 Output Shape              Param #   \n",
      "=================================================================\n",
      "conv2d_1 (Conv2D)            (None, 11, 500, 32)       192       \n",
      "_________________________________________________________________\n",
      "batch_normalization_1 (Batch (None, 11, 500, 32)       128       \n",
      "_________________________________________________________________\n",
      "max_pooling2d_1 (MaxPooling2 (None, 11, 250, 32)       0         \n",
      "_________________________________________________________________\n",
      "dropout_1 (Dropout)          (None, 11, 250, 32)       0         \n",
      "_________________________________________________________________\n",
      "conv2d_2 (Conv2D)            (None, 11, 250, 32)       3104      \n",
      "_________________________________________________________________\n",
      "batch_normalization_2 (Batch (None, 11, 250, 32)       128       \n",
      "_________________________________________________________________\n",
      "max_pooling2d_2 (MaxPooling2 (None, 11, 125, 32)       0         \n",
      "_________________________________________________________________\n",
      "dropout_2 (Dropout)          (None, 11, 125, 32)       0         \n",
      "_________________________________________________________________\n",
      "conv2d_3 (Conv2D)            (None, 11, 125, 32)       9248      \n",
      "_________________________________________________________________\n",
      "batch_normalization_3 (Batch (None, 11, 125, 32)       128       \n",
      "_________________________________________________________________\n",
      "dropout_3 (Dropout)          (None, 11, 125, 32)       0         \n",
      "_________________________________________________________________\n",
      "permute_1 (Permute)          (None, 125, 11, 32)       0         \n",
      "_________________________________________________________________\n",
      "reshape_1 (Reshape)          (None, 125, 352)          0         \n",
      "_________________________________________________________________\n",
      "bidirectional_1 (Bidirection (None, 64)                98560     \n",
      "_________________________________________________________________\n",
      "dropout_4 (Dropout)          (None, 64)                0         \n",
      "_________________________________________________________________\n",
      "dense_1 (Dense)              (None, 8)                 520       \n",
      "=================================================================\n",
      "Total params: 112,008\n",
      "Trainable params: 111,816\n",
      "Non-trainable params: 192\n",
      "_________________________________________________________________\n"
     ]
    }
   ],
   "source": [
    "model.summary()"
   ]
  },
  {
   "cell_type": "code",
   "execution_count": 19,
   "metadata": {},
   "outputs": [
    {
     "name": "stdout",
     "output_type": "stream",
     "text": [
      "[[7561  109    0   51  133  110  188   45]\n",
      " [ 166 6676   11   20    0   11   16   16]\n",
      " [   3   64 2195    1    0    0    1    0]\n",
      " [ 107   80    1 6960    9   34    7   12]\n",
      " [  41    3    0   23 8279  149   52   51]\n",
      " [  65   41    1   92  139 6315   59   47]\n",
      " [ 312   44    0    7   95  156 6822  673]\n",
      " [ 402   88    0   29   76  324  973 5186]]\n",
      "the mean-f1 score: 0.91\n",
      "accuracy is: 0.91\n"
     ]
    }
   ],
   "source": [
    "y_pred = np.argmax(model.predict(X_test), axis=1)\n",
    "y_true = np.argmax(Y_test, axis=1)\n",
    "cf_matrix = confusion_matrix(y_true, y_pred)\n",
    "print(cf_matrix)\n",
    "class_wise_f1 = np.round(f1_score(y_true, y_pred, average=None)*100)*0.01\n",
    "accuracy = accuracy_score(y_true, y_pred)\n",
    "\n",
    "\n",
    "print('the mean-f1 score: {:.2f}'.format(np.mean(class_wise_f1)))\n",
    "print('accuracy is: {:.2f}'.format(accuracy))"
   ]
  },
  {
   "cell_type": "code",
   "execution_count": 20,
   "metadata": {
    "scrolled": false
   },
   "outputs": [
    {
     "data": {
      "image/png": "[encoded data removed]",
      "text/plain": [
       "<matplotlib.figure.Figure at 0x7f26d36b77f0>"
      ]
     },
     "metadata": {},
     "output_type": "display_data"
    }
   ],
   "source": [
    "plt.figure()\n",
    "plt.plot(y_pred[:100])\n",
    "plt.plot(y_true[:100])\n",
    "plt.show()"
   ]
  },
  {
   "cell_type": "code",
   "execution_count": 28,
   "metadata": {},
   "outputs": [],
   "source": [
    "y_pred2 = np.zeros((int(len(y_pred)/23)))\n",
    "y_true2 = np.zeros((int(len(y_pred)/23)))\n",
    "y_true = np.argmax(Y_test, axis=1)\n",
    "\n",
    "ind = 0\n",
    "for i in range (0,len(y_pred), 23):\n",
    "    (values,counts) = np.unique(y_pred[i:i+23],return_counts=True)\n",
    "    c = np.argmax(counts)\n",
    "    y_pred2[ind] = values[c]\n",
    "    y_true2[ind] = y_true[i]\n",
    "    ind = ind+1"
   ]
  },
  {
   "cell_type": "code",
   "execution_count": 22,
   "metadata": {},
   "outputs": [
    {
     "data": {
      "image/png": "[encoded data removed]",
      "text/plain": [
       "<matplotlib.figure.Figure at 0x7f26d2cf04e0>"
      ]
     },
     "metadata": {},
     "output_type": "display_data"
    }
   ],
   "source": [
    "plt.figure()\n",
    "plt.plot(y_pred2[:100])\n",
    "plt.plot(y_true2[:100])\n",
    "plt.show()"
   ]
  },
  {
   "cell_type": "code",
   "execution_count": 29,
   "metadata": {},
   "outputs": [
    {
     "name": "stdout",
     "output_type": "stream",
     "text": [
      "[[326   4   0   9   3   7   8   1]\n",
      " [  8 288   0   1   1   0   1   1]\n",
      " [  0   2  96   0   1   0   0   0]\n",
      " [  6   5   0 297   0   0   1   0]\n",
      " [  0   0   1   3 366   3   2   0]\n",
      " [  1   4   1   2   4 281   0   0]\n",
      " [  7   3   0   2   1   4 325  12]\n",
      " [ 14   4   0   0   0   5  30 256]]\n",
      "the mean-f1 score: 0.93\n",
      "accuracy is: 0.93\n"
     ]
    }
   ],
   "source": [
    "cf_matrix = confusion_matrix(y_true2, y_pred2)\n",
    "print(cf_matrix)\n",
    "class_wise_f1 = np.round(f1_score(y_true2, y_pred2, average=None)*100)*0.01\n",
    "accuracy = accuracy_score(y_true2, y_pred2)\n",
    "\n",
    "print('the mean-f1 score: {:.2f}'.format(np.mean(class_wise_f1)))\n",
    "print('accuracy is: {:.2f}'.format(accuracy))"
   ]
  },
  {
   "cell_type": "code",
   "execution_count": 30,
   "metadata": {},
   "outputs": [
    {
     "name": "stdout",
     "output_type": "stream",
     "text": [
      "(2397,)\n",
      "(2397, 6000)\n",
      "(2397, 6000)\n",
      "(14382000,)\n",
      "(14382000,)\n",
      "[[2009366   27356    2528   15899   19409   18823   39840    4337]\n",
      " [  26283 1756976    4559    7421    2437       0    3330    5540]\n",
      " [      0   13902  575174       0    1324       0       0       0]\n",
      " [  14156   18902    2538 1844168     851     519     623       0]\n",
      " [      0    2536    1037    5454 2202592   18000   12000       0]\n",
      " [   7170   14935    2164    8710   23387 1707416       0       0]\n",
      " [  36530   11615       0    2348    6000   24687 1961143   72000]\n",
      " [  78495   13778       0       0       0   30555  185064 1538123]]\n",
      "the mean-f1 score: 0.947555\n",
      "accuracy is: 0.945276\n",
      "(4794,)\n",
      "(2397, 6000)\n",
      "(2397, 6000)\n",
      "(14382000,)\n",
      "(14382000,)\n",
      "[[2024813   17228       0    9937   31409   15391   38062     718]\n",
      " [  42104 1742608    4559    3138    2901    4790    3330    3116]\n",
      " [    472   10902  576404     462    1324     836       0       0]\n",
      " [  27920    2881       0 1842808    2704    4821     623       0]\n",
      " [   3000       0    1037    4307 2200275   15000   12000    6000]\n",
      " [  13063   10725       0   15000   32387 1689607    3000       0]\n",
      " [  65439    5615       0    2348   12000   21000 1899921  108000]\n",
      " [  79189   10041       0    6000    6000   51555  185064 1508166]]\n",
      "the mean-f1 score: 0.941287\n",
      "accuracy is: 0.937603\n"
     ]
    }
   ],
   "source": [
    "print(y_pred2.shape)\n",
    "y_pred2 = np.int8(y_pred2) + 1\n",
    "y_pred2 = y_pred2.repeat(6000).reshape(-1,6000)\n",
    "print(y_pred2.shape)\n",
    "\n",
    "y_true = np.int8(data['arr_20'] )\n",
    "y_true = y_true[-2397:,:] #test = -2397:, val = 1739\n",
    "#y_true = y_true[:1739,:]\n",
    "print(y_true.shape)\n",
    "\n",
    "out_path='/home/sandeep/storage/HASCA-Workshop/Vikranth/Predictions/Final_60/'\n",
    "\n",
    "# data file with all the 16310 frames: 'Data_16310.npz'\n",
    "# data file with only 1000 frames: 'Data_1000.npz'\n",
    "\n",
    "out_file='bid6_94'\n",
    "np.save(out_path + out_file, y_pred2)\n",
    "\n",
    "y_true = y_true.reshape(-1)\n",
    "y_pred2 = y_pred2.reshape(-1)\n",
    "print(y_true.shape)\n",
    "print(y_pred2.shape)\n",
    "cf_matrix = confusion_matrix(y_true, y_pred2)\n",
    "print(cf_matrix)\n",
    "class_wise_f1 = f1_score(y_true, y_pred2, average=None)\n",
    "accuracy = accuracy_score(y_true, y_pred2)\n",
    "\n",
    "print('the mean-f1 score: {:.6f}'.format(np.mean(class_wise_f1)))\n",
    "print('accuracy is: {:.6f}'.format(accuracy))\n",
    "\n",
    "y_pred2 = np.zeros((int(len(y_pred)/23)*2))\n",
    "y_true2 = np.zeros((int(len(y_pred)/23)*2))\n",
    "ind = 0\n",
    "for i in range (0,len(y_pred), 23):\n",
    "    (values,counts) = np.unique(y_pred[i:i+14],return_counts=True)\n",
    "    c = np.argmax(counts)\n",
    "    y_pred2[ind] = values[c]\n",
    "    (values,counts) = np.unique(y_true[i:i+14],return_counts=True)\n",
    "    c = np.argmax(counts) \n",
    "    y_true2[ind] = values[c]\n",
    "    (values,counts) = np.unique(y_pred[i+10:i+23],return_counts=True)\n",
    "    c = np.argmax(counts)\n",
    "    y_pred2[ind+1] = values[c]\n",
    "    (values,counts) = np.unique(y_true[i+10:i+23],return_counts=True)\n",
    "    c = np.argmax(counts)\n",
    "    y_true2[ind+1] = values[c]\n",
    "    ind = ind+2\n",
    "\n",
    "print(y_pred2.shape)\n",
    "y_pred2 = np.int8(y_pred2) + 1\n",
    "y_pred2 = y_pred2.repeat(3000).reshape(-1,6000)\n",
    "print(y_pred2.shape)\n",
    "\n",
    "y_true = np.int8(data['arr_20'] )\n",
    "y_true = y_true[-2397:,:] #test = -2397:, val = 1739\n",
    "#y_true = y_true[:1739,:]\n",
    "print(y_true.shape)\n",
    "\n",
    "out_path='/home/sandeep/storage/HASCA-Workshop/Vikranth/Predictions/Final_30/'\n",
    "\n",
    "# data file with all the 16310 frames: 'Data_16310.npz'\n",
    "# data file with only 1000 frames: 'Data_1000.npz'\n",
    "\n",
    "out_file='bid6_94'\n",
    "np.save(out_path + out_file, y_pred2)\n",
    "\n",
    "y_true = y_true.reshape(-1)\n",
    "y_pred2 = y_pred2.reshape(-1)\n",
    "print(y_true.shape)\n",
    "print(y_pred2.shape)\n",
    "cf_matrix = confusion_matrix(y_true, y_pred2)\n",
    "print(cf_matrix)\n",
    "class_wise_f1 = f1_score(y_true, y_pred2, average=None)\n",
    "accuracy = accuracy_score(y_true, y_pred2)\n",
    "\n",
    "print('the mean-f1 score: {:.6f}'.format(np.mean(class_wise_f1)))\n",
    "print('accuracy is: {:.6f}'.format(accuracy))"
   ]
  },
  {
   "cell_type": "code",
   "execution_count": null,
   "metadata": {},
   "outputs": [],
   "source": []
  },
  {
   "cell_type": "code",
   "execution_count": null,
   "metadata": {},
   "outputs": [],
   "source": []
  },
  {
   "cell_type": "code",
   "execution_count": null,
   "metadata": {},
   "outputs": [],
   "source": []
  },
  {
   "cell_type": "code",
   "execution_count": null,
   "metadata": {},
   "outputs": [],
   "source": []
  },
  {
   "cell_type": "code",
   "execution_count": null,
   "metadata": {},
   "outputs": [],
   "source": []
  },
  {
   "cell_type": "code",
   "execution_count": null,
   "metadata": {},
   "outputs": [],
   "source": []
  },
  {
   "cell_type": "code",
   "execution_count": null,
   "metadata": {},
   "outputs": [],
   "source": []
  },
  {
   "cell_type": "code",
   "execution_count": null,
   "metadata": {},
   "outputs": [],
   "source": []
  },
  {
   "cell_type": "code",
   "execution_count": null,
   "metadata": {},
   "outputs": [],
   "source": []
  },
  {
   "cell_type": "code",
   "execution_count": null,
   "metadata": {},
   "outputs": [],
   "source": []
  },
  {
   "cell_type": "code",
   "execution_count": null,
   "metadata": {},
   "outputs": [],
   "source": []
  },
  {
   "cell_type": "code",
   "execution_count": null,
   "metadata": {},
   "outputs": [],
   "source": []
  },
  {
   "cell_type": "code",
   "execution_count": null,
   "metadata": {},
   "outputs": [],
   "source": []
  },
  {
   "cell_type": "code",
   "execution_count": null,
   "metadata": {},
   "outputs": [],
   "source": []
  },
  {
   "cell_type": "code",
   "execution_count": 24,
   "metadata": {},
   "outputs": [],
   "source": [
    "model.save('Conv_lstm_bid6_94')"
   ]
  }
 ],
 "metadata": {
  "kernelspec": {
   "display_name": "Python 3",
   "language": "python",
   "name": "python3"
  },
  "language_info": {
   "codemirror_mode": {
    "name": "ipython",
    "version": 3
   },
   "file_extension": ".py",
   "mimetype": "text/x-python",
   "name": "python",
   "nbconvert_exporter": "python",
   "pygments_lexer": "ipython3",
   "version": "3.6.8"
  }
 },
 "nbformat": 4,
 "nbformat_minor": 1
}
